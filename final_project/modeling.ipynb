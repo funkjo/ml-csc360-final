{
 "cells": [
  {
   "cell_type": "code",
   "execution_count": 1,
   "metadata": {},
   "outputs": [
    {
     "name": "stdout",
     "output_type": "stream",
     "text": [
      "pandas  0.25.1\n",
      "numpy  1.16.5\n",
      "sklearn 0.21.3\n"
     ]
    }
   ],
   "source": [
    "# create our machine learning models\n",
    "\n",
    "import pandas as pd\n",
    "import numpy as np\n",
    "import sklearn as sk\n",
    "\n",
    "print('pandas ', pd.__version__)\n",
    "print('numpy ', np.__version__)\n",
    "print('sklearn', sk.__version__)"
   ]
  },
  {
   "cell_type": "code",
   "execution_count": 2,
   "metadata": {},
   "outputs": [
    {
     "data": {
      "text/plain": [
       "(2464, 23)"
      ]
     },
     "execution_count": 2,
     "metadata": {},
     "output_type": "execute_result"
    }
   ],
   "source": [
    "data = pd.read_csv('data/data.csv')\n",
    "data.shape"
   ]
  },
  {
   "cell_type": "code",
   "execution_count": 3,
   "metadata": {},
   "outputs": [
    {
     "name": "stdout",
     "output_type": "stream",
     "text": [
      "0       1\n",
      "1       0\n",
      "2       1\n",
      "3       0\n",
      "4       0\n",
      "       ..\n",
      "2459    1\n",
      "2460    1\n",
      "2461    1\n",
      "2462    1\n",
      "2463    1\n",
      "Name: Attrition, Length: 2464, dtype: int64\n",
      "<class 'pandas.core.series.Series'>\n"
     ]
    }
   ],
   "source": [
    "y = data['Attrition']\n",
    "print(y)\n",
    "print(type(y))"
   ]
  },
  {
   "cell_type": "code",
   "execution_count": 4,
   "metadata": {},
   "outputs": [
    {
     "name": "stdout",
     "output_type": "stream",
     "text": [
      "           Age  DailyRate  DistanceFromHome  EmployeeNumber  \\\n",
      "0     0.446350   0.742527         -1.010909       -1.701283   \n",
      "1     1.322365  -1.297775         -0.147150       -1.699621   \n",
      "2     0.008343   1.414363         -0.887515       -1.696298   \n",
      "3    -0.429664   1.461466         -0.764121       -1.694636   \n",
      "4    -1.086676  -0.524295         -0.887515       -1.691313   \n",
      "...        ...        ...               ...             ...   \n",
      "2459 -0.753371  -0.098876         -0.887515        0.296628   \n",
      "2460 -1.345354   0.607110          0.829274        1.298087   \n",
      "2461 -1.850294   0.735002          0.219772       -0.004952   \n",
      "2462 -1.045215  -0.495451          0.393148        0.776320   \n",
      "2463 -1.505161  -0.355432          0.782607       -1.048411   \n",
      "\n",
      "      EnvironmentSatisfaction  JobInvolvement  JobLevel   JobRole  \\\n",
      "0                   -0.660531        0.379672 -0.057788  1.032716   \n",
      "1                    0.254625       -1.026167 -0.057788  0.626374   \n",
      "2                    1.169781       -1.026167 -0.961486 -0.998992   \n",
      "3                    1.169781        0.379672 -0.961486  0.626374   \n",
      "4                   -1.575686        0.379672 -0.961486 -0.998992   \n",
      "...                       ...             ...       ...       ...   \n",
      "2459                 0.254625       -0.578089 -0.961486  1.180034   \n",
      "2460                 0.858097        0.379672 -0.961486 -1.266942   \n",
      "2461                 1.169781       -1.026167 -0.961486  0.612054   \n",
      "2462                 0.501926       -0.000226  0.357501 -1.592065   \n",
      "2463                 0.685010       -1.770859 -0.961486 -0.998992   \n",
      "\n",
      "      JobSatisfaction  MaritalStatus  ...  NumCompaniesWorked  OverTime  \\\n",
      "0            1.153254       1.236820  ...            2.125136  1.591746   \n",
      "1           -0.660853      -0.133282  ...           -0.678049 -0.628241   \n",
      "2            0.246200       1.236820  ...            1.324226  1.591746   \n",
      "3            0.246200      -0.133282  ...           -0.678049  1.591746   \n",
      "4           -0.660853      -0.133282  ...            2.525591 -0.628241   \n",
      "...               ...            ...  ...                 ...       ...   \n",
      "2459         0.864152       1.236820  ...            1.597045 -0.628241   \n",
      "2460        -0.969778      -0.133282  ...           -0.942117  1.591746   \n",
      "2461        -1.551924       1.236820  ...           -0.678049  1.591746   \n",
      "2462         0.908142       1.236820  ...           -0.970290  1.591746   \n",
      "2463         1.153254       1.236820  ...           -0.678049  1.591746   \n",
      "\n",
      "      RelationshipSatisfaction  StockOptionLevel  TotalWorkingYears  \\\n",
      "0                    -1.584178         -0.932014          -0.421642   \n",
      "1                     1.191438          0.241988          -0.164511   \n",
      "2                    -0.658973         -0.932014          -0.550208   \n",
      "3                     0.266233         -0.932014          -0.421642   \n",
      "4                     1.191438          0.241988          -0.678774   \n",
      "...                        ...               ...                ...   \n",
      "2459                  0.561120         -0.932014          -0.982516   \n",
      "2460                  0.266233         -0.932014          -0.897708   \n",
      "2461                 -1.584178         -0.932014          -1.317070   \n",
      "2462                 -1.584178         -0.932014          -0.432045   \n",
      "2463                 -0.658973         -0.932014          -1.321601   \n",
      "\n",
      "      TrainingTimesLastYear  YearsAtCompany  YearsInCurrentRole  \\\n",
      "0                 -2.171982       -0.164613           -0.063296   \n",
      "1                  0.155707        0.488508            0.764998   \n",
      "2                  0.155707       -1.144294           -1.167687   \n",
      "3                  0.155707        0.161947            0.764998   \n",
      "4                  0.155707       -0.817734           -0.615492   \n",
      "...                     ...             ...                 ...   \n",
      "2459               0.155707       -0.928972           -0.991688   \n",
      "2460               0.948472       -0.550333           -0.985623   \n",
      "2461              -0.620189       -0.975260           -1.157957   \n",
      "2462              -1.186416        0.029578            0.541169   \n",
      "2463               0.885494       -0.981014           -1.167687   \n",
      "\n",
      "      YearsSinceLastPromotion  YearsWithCurrManager  \n",
      "0                   -0.679146              0.245834  \n",
      "1                   -0.368715              0.806541  \n",
      "2                   -0.679146             -1.155935  \n",
      "3                    0.252146             -1.155935  \n",
      "4                   -0.058285             -0.595227  \n",
      "...                       ...                   ...  \n",
      "2459                -0.481261             -1.066579  \n",
      "2460                -0.474442             -0.416451  \n",
      "2461                -0.676411             -1.150995  \n",
      "2462                 0.990544              0.427744  \n",
      "2463                -0.533155             -1.155935  \n",
      "\n",
      "[2464 rows x 22 columns]\n",
      "<class 'pandas.core.series.Series'>\n"
     ]
    }
   ],
   "source": [
    "X = data.drop(columns =['Attrition'])\n",
    "print(X)\n",
    "print(type(y))"
   ]
  },
  {
   "cell_type": "code",
   "execution_count": 5,
   "metadata": {},
   "outputs": [
    {
     "name": "stdout",
     "output_type": "stream",
     "text": [
      "[1 0 1 ... 1 1 1]\n",
      "<class 'numpy.ndarray'>\n",
      "(2464,)\n",
      "[[ 0.4463504   0.74252653 -1.01090934 ... -0.0632959  -0.67914568\n",
      "   0.24583399]\n",
      " [ 1.32236521 -1.2977746  -0.14714972 ...  0.76499762 -0.36871529\n",
      "   0.80654148]\n",
      " [ 0.008343    1.41436324 -0.88751511 ... -1.16768726 -0.67914568\n",
      "  -1.15593471]\n",
      " ...\n",
      " [-1.85029423  0.73500173  0.21977154 ... -1.15795719 -0.67641068\n",
      "  -1.15099468]\n",
      " [-1.04521495 -0.49545128  0.39314783 ...  0.5411691   0.99054423\n",
      "   0.42774361]\n",
      " [-1.50516057 -0.35543202  0.78260728 ... -1.16768726 -0.53315458\n",
      "  -1.15593471]]\n",
      "<class 'numpy.ndarray'>\n",
      "(2464, 22)\n"
     ]
    }
   ],
   "source": [
    "# convert X and y to numpy arrays\n",
    "\n",
    "y = np.asarray(y)\n",
    "X = np.asarray(X)\n",
    "print(y)\n",
    "print(type(y))\n",
    "print(y.shape)\n",
    "\n",
    "print(X)\n",
    "print(type(X))\n",
    "print(X.shape)"
   ]
  },
  {
   "cell_type": "code",
   "execution_count": 6,
   "metadata": {},
   "outputs": [
    {
     "name": "stdout",
     "output_type": "stream",
     "text": [
      "\n",
      " 49.18815663801337  percent of training data is in class 1\n",
      "len y_train:  2094\n",
      "len y_test:  370\n",
      "\n",
      " 54.59459459459459  percent of test data is in class 1\n"
     ]
    }
   ],
   "source": [
    "from sklearn.model_selection import train_test_split\n",
    "\n",
    "random_seed = 30\n",
    "\n",
    "X_train, X_test, y_train, y_test = train_test_split(X,y,test_size=0.15,random_state=random_seed)\n",
    "\n",
    "numerator = y_train[y_train == 1].sum()\n",
    "denominator = len(y_train)\n",
    "print(\"\\n\", numerator/denominator * 100, \" percent of training data is in class 1\")\n",
    "print('len y_train: ', len(y_train))\n",
    "print('len y_test: ', len(y_test))\n",
    "\n",
    "numerator2 = y_test[y_test == 1].sum()\n",
    "denominator2 = len(y_test)\n",
    "print('\\n', numerator2/denominator2 * 100, ' percent of test data is in class 1')"
   ]
  },
  {
   "cell_type": "code",
   "execution_count": 7,
   "metadata": {},
   "outputs": [],
   "source": [
    "def balanced_accuracy(y_test, y_pred):\n",
    "    \n",
    "    tp = 0\n",
    "    tn = 0\n",
    "    fp = 0\n",
    "    fn = 0\n",
    "    \n",
    "    for i in range(len(y_test)):\n",
    "        if y_test[i]==1 and y_pred[i]== 1:\n",
    "                tp +=1\n",
    "        elif y_test[i]==0 and y_pred[i]== 0:\n",
    "                tn +=1\n",
    "        elif y_test[i]==0 and y_pred[i]== 1:\n",
    "                fp +=1\n",
    "        else:\n",
    "            fn +=1\n",
    "    \n",
    "    return 0.5 * ((tp / (tp + fn)) + (tn / (tn + fp))),[tp,tn,fp,fn]"
   ]
  },
  {
   "cell_type": "markdown",
   "metadata": {},
   "source": [
    "# KNN"
   ]
  },
  {
   "cell_type": "code",
   "execution_count": 8,
   "metadata": {},
   "outputs": [
    {
     "name": "stdout",
     "output_type": "stream",
     "text": [
      "\n",
      "Test accuracy: 0.9135135135135135\n",
      "balanced accuracy:  0.9057637906647807\n"
     ]
    }
   ],
   "source": [
    "from sklearn.neighbors import KNeighborsClassifier\n",
    "from sklearn import metrics\n",
    "\n",
    "# Train logistic regression model (with default regularization) for binary classification\n",
    "knn_model = KNeighborsClassifier(n_neighbors=2)\n",
    "knn_model.fit(X_train, y_train)\n",
    "\n",
    "# Make predictions on test data and print the test accuracy\n",
    "y_pred_knn = knn_model.predict(X_test)\n",
    "knn_test_accuracy = metrics.accuracy_score(y_test, y_pred_knn)\n",
    "print('\\nTest accuracy: '+str(knn_test_accuracy))\n",
    "\n",
    "knn_balanced_accuracy, knn_eval_metrics=balanced_accuracy(y_test,y_pred_knn)\n",
    "print(\"balanced accuracy: \", knn_balanced_accuracy)\n",
    "\n",
    "model_accs = {\n",
    "    'knn': [knn_test_accuracy,knn_balanced_accuracy,knn_eval_metrics]\n",
    "}"
   ]
  },
  {
   "cell_type": "markdown",
   "metadata": {},
   "source": [
    "# Decision Tree"
   ]
  },
  {
   "cell_type": "code",
   "execution_count": 9,
   "metadata": {},
   "outputs": [
    {
     "name": "stdout",
     "output_type": "stream",
     "text": [
      "Test accuracy: 0.8513513513513513\n",
      "balanced accuracy: 0.8473302687411599\n"
     ]
    }
   ],
   "source": [
    "from sklearn.tree import plot_tree\n",
    "from sklearn.tree import DecisionTreeClassifier\n",
    "\n",
    "tree = DecisionTreeClassifier(criterion='entropy', \n",
    "                              max_depth=8, \n",
    "                              random_state=2)\n",
    "tree.fit(X_train, y_train)\n",
    "\n",
    "\n",
    "y_pred_tree = tree.predict(X_test)\n",
    "tree_test_accuracy = metrics.accuracy_score(y_test, y_pred_tree)\n",
    "print(\"Test accuracy: \"+str(tree_test_accuracy))\n",
    "\n",
    "tree_balanced_accuracy, tree_eval_metrics=balanced_accuracy(y_test,y_pred_tree)\n",
    "print(\"balanced accuracy:\", tree_balanced_accuracy)\n",
    "\n",
    "model_accs['decision tree'] = [tree_test_accuracy,tree_balanced_accuracy,tree_eval_metrics]"
   ]
  },
  {
   "cell_type": "code",
   "execution_count": 10,
   "metadata": {},
   "outputs": [
    {
     "data": {
      "text/plain": [
       "<Figure size 1000x700 with 1 Axes>"
      ]
     },
     "metadata": {},
     "output_type": "display_data"
    }
   ],
   "source": [
    "import matplotlib.pyplot as plt\n",
    "\n",
    "plt.figure(figsize=(10, 7))\n",
    "\n",
    "plot_tree(tree, \n",
    "          filled=True, \n",
    "          rounded=True,\n",
    "          class_names=['Yes', \n",
    "                       'No']) \n",
    "\n",
    "plt.show()"
   ]
  },
  {
   "cell_type": "markdown",
   "metadata": {},
   "source": [
    "# SVM"
   ]
  },
  {
   "cell_type": "code",
   "execution_count": 11,
   "metadata": {},
   "outputs": [
    {
     "name": "stderr",
     "output_type": "stream",
     "text": [
      "C:\\Users\\linds\\Anaconda3\\lib\\site-packages\\sklearn\\svm\\base.py:193: FutureWarning: The default value of gamma will change from 'auto' to 'scale' in version 0.22 to account better for unscaled features. Set gamma explicitly to 'auto' or 'scale' to avoid this warning.\n",
      "  \"avoid this warning.\", FutureWarning)\n"
     ]
    },
    {
     "name": "stdout",
     "output_type": "stream",
     "text": [
      "Accuracy: 0.9054054054054054\n",
      "balanced accuracy: 0.9033474776049033\n"
     ]
    }
   ],
   "source": [
    "from sklearn import svm\n",
    "\n",
    "svm_model = svm.SVC(kernel='rbf')\n",
    "svm_model.fit(X_train, y_train)\n",
    "\n",
    "y_pred_svm = svm_model.predict(X_test)\n",
    "\n",
    "svm_test_accuracy = metrics.accuracy_score(y_test, y_pred_svm)\n",
    "print(\"Accuracy:\",svm_test_accuracy)\n",
    "\n",
    "svm_balanced_accuracy, svm_eval_metrics=balanced_accuracy(y_test,y_pred_svm)\n",
    "print(\"balanced accuracy:\", svm_balanced_accuracy)\n",
    "\n",
    "model_accs['svm'] = [svm_test_accuracy,svm_balanced_accuracy,svm_eval_metrics]"
   ]
  },
  {
   "cell_type": "markdown",
   "metadata": {},
   "source": [
    "# Logistic Regression"
   ]
  },
  {
   "cell_type": "code",
   "execution_count": 12,
   "metadata": {},
   "outputs": [
    {
     "name": "stdout",
     "output_type": "stream",
     "text": [
      "Accuracy:  0.7783783783783784\n",
      "balanced accuracy: 0.775489156058463\n"
     ]
    }
   ],
   "source": [
    "from sklearn.linear_model import LogisticRegression\n",
    "\n",
    "lr_model = LogisticRegression(penalty='l2', random_state=0, solver='liblinear')\n",
    "lr_model.fit(X_train, y_train)\n",
    "\n",
    "y_pred_lr = lr_model.predict(X_test)\n",
    "\n",
    "lr_test_accuracy = metrics.accuracy_score(y_test, y_pred_lr)\n",
    "print(\"Accuracy: \", lr_test_accuracy)\n",
    "\n",
    "lr_balanced_accuracy, lr_eval_metrics=balanced_accuracy(y_test,y_pred_lr)\n",
    "print(\"balanced accuracy:\", lr_balanced_accuracy)\n",
    "\n",
    "model_accs['logistic regression'] = [lr_test_accuracy,lr_balanced_accuracy,lr_eval_metrics]"
   ]
  },
  {
   "cell_type": "markdown",
   "metadata": {},
   "source": [
    "# Neural Network"
   ]
  },
  {
   "cell_type": "code",
   "execution_count": 13,
   "metadata": {},
   "outputs": [
    {
     "name": "stdout",
     "output_type": "stream",
     "text": [
      "Accuracy:  1.0\n",
      "balanced accuracy: 1.0\n"
     ]
    }
   ],
   "source": [
    "from sklearn.neural_network import MLPClassifier\n",
    "\n",
    "mlp_model = MLPClassifier(hidden_layer_sizes=(150,100,50), activation='relu')\n",
    "mlp_model.fit(X_test, y_test)\n",
    "\n",
    "y_pred_mlp = mlp_model.predict(X_test)\n",
    "\n",
    "mlp_test_accuracy = metrics.accuracy_score(y_test, y_pred_mlp)\n",
    "print(\"Accuracy: \", mlp_test_accuracy)\n",
    "\n",
    "mlp_balanced_accuracy, mlp_eval_metrics=balanced_accuracy(y_test,y_pred_mlp)\n",
    "print(\"balanced accuracy:\", mlp_balanced_accuracy)\n",
    "\n",
    "model_accs['neural network'] = [mlp_test_accuracy,mlp_balanced_accuracy,mlp_eval_metrics]"
   ]
  },
  {
   "cell_type": "markdown",
   "metadata": {},
   "source": [
    "# Random Forest Classifier"
   ]
  },
  {
   "cell_type": "code",
   "execution_count": 14,
   "metadata": {},
   "outputs": [
    {
     "name": "stdout",
     "output_type": "stream",
     "text": [
      "Accuracy:  0.9108108108108108\n",
      "balanced accuracy: 0.9148102310231023\n"
     ]
    },
    {
     "name": "stderr",
     "output_type": "stream",
     "text": [
      "C:\\Users\\linds\\Anaconda3\\lib\\site-packages\\sklearn\\ensemble\\forest.py:245: FutureWarning: The default value of n_estimators will change from 10 in version 0.20 to 100 in 0.22.\n",
      "  \"10 in version 0.20 to 100 in 0.22.\", FutureWarning)\n"
     ]
    }
   ],
   "source": [
    "from sklearn.ensemble import RandomForestClassifier\n",
    "\n",
    "rfc_model = RandomForestClassifier(max_depth=20, random_state=0)\n",
    "rfc_model.fit(X_train, y_train)\n",
    "y_pred_rfc = rfc_model.predict(X_test)\n",
    "\n",
    "rfc_test_accuracy = metrics.accuracy_score(y_test, y_pred_rfc)\n",
    "print(\"Accuracy: \", rfc_test_accuracy)\n",
    "\n",
    "rfc_balanced_accuracy, rfc_eval_metrics=balanced_accuracy(y_test,y_pred_rfc)\n",
    "print(\"balanced accuracy:\", rfc_balanced_accuracy)\n",
    "\n",
    "model_accs['random forest'] = [rfc_test_accuracy,rfc_balanced_accuracy,rfc_eval_metrics]"
   ]
  },
  {
   "cell_type": "markdown",
   "metadata": {},
   "source": [
    "# AdaBoost"
   ]
  },
  {
   "cell_type": "code",
   "execution_count": 15,
   "metadata": {},
   "outputs": [
    {
     "name": "stdout",
     "output_type": "stream",
     "text": [
      "Accuracy:  0.9027027027027027\n",
      "balanced accuracy: 0.904879773691655\n"
     ]
    }
   ],
   "source": [
    "from sklearn.ensemble import AdaBoostClassifier\n",
    "\n",
    "ada_model = AdaBoostClassifier(n_estimators=100, random_state=0)\n",
    "ada_model.fit(X_train, y_train)\n",
    "y_pred_ada = ada_model.predict(X_test)\n",
    "\n",
    "ada_test_accuracy = metrics.accuracy_score(y_test, y_pred_ada)\n",
    "print(\"Accuracy: \", ada_test_accuracy)\n",
    "\n",
    "ada_balanced_accuracy, ada_eval_metrics=balanced_accuracy(y_test,y_pred_ada)\n",
    "print(\"balanced accuracy:\", ada_balanced_accuracy)\n",
    "\n",
    "model_accs['adaboost'] = [ada_test_accuracy,ada_balanced_accuracy,ada_eval_metrics]"
   ]
  },
  {
   "cell_type": "markdown",
   "metadata": {},
   "source": [
    "# Gradient Boosting"
   ]
  },
  {
   "cell_type": "code",
   "execution_count": 16,
   "metadata": {},
   "outputs": [
    {
     "name": "stdout",
     "output_type": "stream",
     "text": [
      "Accuracy:  0.9162162162162162\n",
      "balanced accuracy: 0.9197607260726073\n"
     ]
    }
   ],
   "source": [
    "from sklearn.ensemble import GradientBoostingClassifier\n",
    "\n",
    "gbc_model = GradientBoostingClassifier(random_state=0)\n",
    "gbc_model.fit(X_train, y_train)\n",
    "y_pred_gbc = gbc_model.predict(X_test)\n",
    "\n",
    "gbc_test_accuracy = metrics.accuracy_score(y_test, y_pred_gbc)\n",
    "print(\"Accuracy: \", gbc_test_accuracy)\n",
    "\n",
    "gbc_balanced_accuracy, gbc_eval_metrics=balanced_accuracy(y_test,y_pred_gbc)\n",
    "print(\"balanced accuracy:\", gbc_balanced_accuracy)\n",
    "\n",
    "model_accs['gradient boost'] = [gbc_test_accuracy,gbc_balanced_accuracy,gbc_eval_metrics]"
   ]
  },
  {
   "cell_type": "code",
   "execution_count": 21,
   "metadata": {},
   "outputs": [
    {
     "name": "stdout",
     "output_type": "stream",
     "text": [
      "knn :  0.9135135135135135\n",
      "decision tree :  0.8513513513513513\n",
      "svm :  0.9054054054054054\n",
      "logistic regression :  0.7783783783783784\n",
      "neural network :  1.0\n",
      "random forest :  0.9108108108108108\n",
      "adaboost :  0.9027027027027027\n",
      "gradient boost :  0.9162162162162162\n"
     ]
    }
   ],
   "source": [
    "models = []\n",
    "accs = []\n",
    "for model, accuracy in model_accs.items():\n",
    "    print(model, ': ', accuracy[0])\n",
    "    models.append(model)\n",
    "    accs.append(accuracy[0])"
   ]
  },
  {
   "cell_type": "code",
   "execution_count": 22,
   "metadata": {},
   "outputs": [
    {
     "name": "stdout",
     "output_type": "stream",
     "text": [
      "['knn', 'decision tree', 'svm', 'logistic regression', 'neural network', 'random forest', 'adaboost', 'gradient boost']\n",
      "[0.9135135135135135, 0.8513513513513513, 0.9054054054054054, 0.7783783783783784, 1.0, 0.9108108108108108, 0.9027027027027027, 0.9162162162162162]\n"
     ]
    }
   ],
   "source": [
    "print((models))\n",
    "print((accs))"
   ]
  },
  {
   "cell_type": "code",
   "execution_count": 23,
   "metadata": {},
   "outputs": [
    {
     "data": {
      "image/png": "[encoded data removed]",
      "text/plain": [
       "<Figure size 432x288 with 1 Axes>"
      ]
     },
     "metadata": {
      "needs_background": "light"
     },
     "output_type": "display_data"
    }
   ],
   "source": [
    "fig = plt.figure()\n",
    "ax = fig.add_axes([0,0,1,1])\n",
    "ax.bar(models, accs)\n",
    "plt.show()"
   ]
  },
  {
   "cell_type": "code",
   "execution_count": 26,
   "metadata": {},
   "outputs": [
    {
     "name": "stdout",
     "output_type": "stream",
     "text": [
      "             measure         knn  decision tree         svm  \\\n",
      "0      test accuracy    0.913514       0.851351    0.905405   \n",
      "1  balanced accuracy    0.905764       0.847330    0.903347   \n",
      "2                 tp  200.000000     180.000000  187.000000   \n",
      "3                 tn  138.000000     135.000000  148.000000   \n",
      "4                 fp   30.000000      33.000000   20.000000   \n",
      "5                 fn    2.000000      22.000000   15.000000   \n",
      "\n",
      "   logistic regression  neural network  random forest    adaboost  \\\n",
      "0             0.778378             1.0       0.910811    0.902703   \n",
      "1             0.775489             1.0       0.914810    0.904880   \n",
      "2           163.000000           202.0     176.000000  178.000000   \n",
      "3           125.000000           168.0     161.000000  156.000000   \n",
      "4            43.000000             0.0       7.000000   12.000000   \n",
      "5            39.000000             0.0      26.000000   24.000000   \n",
      "\n",
      "   gradient boost  \n",
      "0        0.916216  \n",
      "1        0.919761  \n",
      "2      178.000000  \n",
      "3      161.000000  \n",
      "4        7.000000  \n",
      "5       24.000000  \n"
     ]
    }
   ],
   "source": [
    "\n",
    "df= pd.DataFrame()\n",
    "df[\"measure\"]= [\"test accuracy\", \"balanced accuracy\", \"tp\", \"tn\", \"fp\", \"fn\"]\n",
    "for model, accuracy in model_accs.items():\n",
    "    df[model]= [accuracy[0],accuracy[1],accuracy[2][0],accuracy[2][1],accuracy[2][2],accuracy[2][3]]\n",
    "\n",
    "with pd.option_context('display.max_rows', None, 'display.max_columns', None):  # more options can be specified also\n",
    "    print(df)\n",
    "\n"
   ]
  },
  {
   "cell_type": "markdown",
   "metadata": {},
   "source": [
    "# Sachi TODO:\n",
    "\n",
    "- For random forest classifier and decision tree, plot the accuracy of the model as maximum tree depth increases (start at depth 1 and go up to 30) hint use a for loop\n",
    "- Do the same thing for KNN plot accuracy as number of neighbors increases\n",
    "- Start by plotting validation curve for KNN then try with other models\n",
    "- Try to plot ROC curves\n",
    "- Calculate balanced accuracy *****\n",
    "- Calculate precision\n",
    "- Calculate F1\n",
    "- True negative, false negative, true positive, false positive"
   ]
  },
  {
   "cell_type": "code",
   "execution_count": null,
   "metadata": {},
   "outputs": [],
   "source": []
  },
  {
   "cell_type": "code",
   "execution_count": null,
   "metadata": {},
   "outputs": [],
   "source": []
  },
  {
   "cell_type": "code",
   "execution_count": null,
   "metadata": {},
   "outputs": [],
   "source": []
  },
  {
   "cell_type": "code",
   "execution_count": null,
   "metadata": {},
   "outputs": [],
   "source": []
  },
  {
   "cell_type": "code",
   "execution_count": null,
   "metadata": {},
   "outputs": [],
   "source": []
  }
 ],
 "metadata": {
  "kernelspec": {
   "display_name": "Python 3",
   "language": "python",
   "name": "python3"
  },
  "language_info": {
   "codemirror_mode": {
    "name": "ipython",
    "version": 3
   },
   "file_extension": ".py",
   "mimetype": "text/x-python",
   "name": "python",
   "nbconvert_exporter": "python",
   "pygments_lexer": "ipython3",
   "version": "3.7.4"
  }
 },
 "nbformat": 4,
 "nbformat_minor": 2
}
