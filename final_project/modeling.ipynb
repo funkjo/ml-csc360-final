{
 "metadata": {
  "language_info": {
   "codemirror_mode": {
    "name": "ipython",
    "version": 3
   },
   "file_extension": ".py",
   "mimetype": "text/x-python",
   "name": "python",
   "nbconvert_exporter": "python",
   "pygments_lexer": "ipython3",
   "version": "3.7.9-final"
  },
  "orig_nbformat": 2,
  "kernelspec": {
   "name": "python3",
   "display_name": "Python 3"
  }
 },
 "nbformat": 4,
 "nbformat_minor": 2,
 "cells": [
  {
   "cell_type": "code",
   "execution_count": 1,
   "metadata": {},
   "outputs": [
    {
     "output_type": "stream",
     "name": "stdout",
     "text": [
      "pandas  1.1.3\nnumpy  1.19.2\nsklearn 0.23.2\n"
     ]
    }
   ],
   "source": [
    "# create our machine learning models\n",
    "\n",
    "import pandas as pd\n",
    "import numpy as np\n",
    "import sklearn as sk\n",
    "\n",
    "print('pandas ', pd.__version__)\n",
    "print('numpy ', np.__version__)\n",
    "print('sklearn', sk.__version__)"
   ]
  },
  {
   "cell_type": "code",
   "execution_count": 3,
   "metadata": {},
   "outputs": [
    {
     "output_type": "execute_result",
     "data": {
      "text/plain": [
       "(1470, 23)"
      ]
     },
     "metadata": {},
     "execution_count": 3
    }
   ],
   "source": [
    "data = pd.read_csv('data/data.csv')\n",
    "data.shape"
   ]
  },
  {
   "cell_type": "code",
   "execution_count": 4,
   "metadata": {},
   "outputs": [
    {
     "output_type": "stream",
     "name": "stdout",
     "text": [
      "0       1\n1       0\n2       1\n3       0\n4       0\n       ..\n1465    0\n1466    0\n1467    0\n1468    0\n1469    0\nName: Attrition, Length: 1470, dtype: int64\n<class 'pandas.core.series.Series'>\n"
     ]
    }
   ],
   "source": [
    "y = data['Attrition']\n",
    "print(y)\n",
    "print(type(y))"
   ]
  },
  {
   "cell_type": "code",
   "execution_count": 5,
   "metadata": {},
   "outputs": [
    {
     "output_type": "stream",
     "name": "stdout",
     "text": [
      "             0         1         2         3         4         5         6  \\\n0     0.446350  0.742527 -1.010909 -1.701283 -0.660531  0.379672 -0.057788   \n1     1.322365 -1.297775 -0.147150 -1.699621  0.254625 -1.026167 -0.057788   \n2     0.008343  1.414363 -0.887515 -1.696298  1.169781 -1.026167 -0.961486   \n3    -0.429664  1.461466 -0.764121 -1.694636  1.169781  0.379672 -0.961486   \n4    -1.086676 -0.524295 -0.887515 -1.691313 -1.575686  0.379672 -0.961486   \n...        ...       ...       ...       ...       ...       ...       ...   \n1465 -0.101159  0.202082  1.703764  1.721670  0.254625  1.785511 -0.057788   \n1466  0.227347 -0.469754 -0.393938  1.723332  1.169781 -1.026167  0.845911   \n1467 -1.086676 -1.605183 -0.640727  1.726655 -0.660531  1.785511 -0.057788   \n1468  1.322365  0.546677 -0.887515  1.728317  1.169781 -1.026167 -0.057788   \n1469 -0.320163 -0.432568 -0.147150  1.733302 -0.660531  1.785511 -0.057788   \n\n             7         8         9  ...        12        13        14  \\\n0     1.032716  1.153254  1.236820  ...  2.125136  1.591746 -1.584178   \n1     0.626374 -0.660853 -0.133282  ... -0.678049 -0.628241  1.191438   \n2    -0.998992  0.246200  1.236820  ...  1.324226  1.591746 -0.658973   \n3     0.626374  0.246200 -0.133282  ... -0.678049  1.591746  0.266233   \n4    -0.998992 -0.660853 -0.133282  ...  2.525591 -0.628241  1.191438   \n...        ...       ...       ...  ...       ...       ...       ...   \n1465 -0.998992  1.153254 -0.133282  ...  0.523316 -0.628241  0.266233   \n1466 -1.811675 -1.567907 -0.133282  ...  0.523316 -0.628241 -1.584178   \n1467 -0.186309 -0.660853 -0.133282  ... -0.678049  1.591746 -0.658973   \n1468  1.032716 -0.660853 -0.133282  ... -0.277594 -0.628241  1.191438   \n1469 -0.998992  0.246200 -0.133282  ... -0.277594 -0.628241 -1.584178   \n\n            15        16        17        18        19        20        21  \n0    -0.932014 -0.421642 -2.171982 -0.164613 -0.063296 -0.679146  0.245834  \n1     0.241988 -0.164511  0.155707  0.488508  0.764998 -0.368715  0.806541  \n2    -0.932014 -0.550208  0.155707 -1.144294 -1.167687 -0.679146 -1.155935  \n3    -0.932014 -0.421642  0.155707  0.161947  0.764998  0.252146 -1.155935  \n4     0.241988 -0.678774  0.155707 -0.817734 -0.615492 -0.058285 -0.595227  \n...        ...       ...       ...       ...       ...       ...       ...  \n1465  0.241988  0.735447  0.155707 -0.327893 -0.615492 -0.679146 -0.314873  \n1466  0.241988 -0.293077  1.707500 -0.001333  0.764998 -0.368715  0.806541  \n1467  0.241988 -0.678774 -2.171982 -0.164613 -0.615492 -0.679146 -0.314873  \n1468 -0.932014  0.735447  0.155707  0.325228  0.488900 -0.679146  1.086895  \n1469 -0.932014 -0.678774  0.155707 -0.491174 -0.339394 -0.368715 -0.595227  \n\n[1470 rows x 22 columns]\n<class 'pandas.core.series.Series'>\n"
     ]
    }
   ],
   "source": [
    "X = data.drop(columns =['Attrition'])\n",
    "print(X)\n",
    "print(type(y))"
   ]
  },
  {
   "cell_type": "code",
   "execution_count": 10,
   "metadata": {},
   "outputs": [
    {
     "output_type": "stream",
     "name": "stdout",
     "text": [
      "[1 0 1 ... 0 0 0]\n<class 'numpy.ndarray'>\n(1470,)\n[[ 0.4463504   0.74252653 -1.01090934 ... -0.0632959  -0.67914568\n   0.24583399]\n [ 1.32236521 -1.2977746  -0.14714972 ...  0.76499762 -0.36871529\n   0.80654148]\n [ 0.008343    1.41436324 -0.88751511 ... -1.16768726 -0.67914568\n  -1.15593471]\n ...\n [-1.08667552 -1.60518328 -0.64072665 ... -0.61549158 -0.67914568\n  -0.31487349]\n [ 1.32236521  0.54667746 -0.88751511 ...  0.48889978 -0.67914568\n   1.08689522]\n [-0.32016256 -0.43256792 -0.14714972 ... -0.33939374 -0.36871529\n  -0.59522723]]\n<class 'numpy.ndarray'>\n(1470, 22)\n"
     ]
    }
   ],
   "source": [
    "# convert X and y to numpy arrays\n",
    "\n",
    "y = np.asarray(y)\n",
    "X = np.asarray(X)\n",
    "print(y)\n",
    "print(type(y))\n",
    "print(y.shape)\n",
    "\n",
    "print(X)\n",
    "print(type(X))\n",
    "print(X.shape)"
   ]
  },
  {
   "cell_type": "code",
   "execution_count": 13,
   "metadata": {},
   "outputs": [
    {
     "output_type": "stream",
     "name": "stdout",
     "text": [
      "\n 16.413130504403522  percent of training data is in class 1\n"
     ]
    }
   ],
   "source": [
    "from sklearn.model_selection import train_test_split\n",
    "\n",
    "random_seed = 30\n",
    "\n",
    "X_train, X_test, y_train, y_test = train_test_split(X,y,test_size=0.15,random_state=random_seed)\n",
    "\n",
    "numerator = y_train[y_train == 1].sum()\n",
    "denominator = len(y_train)\n",
    "print(\"\\n\", numerator/denominator * 100, \" percent of training data is in class 1\")"
   ]
  },
  {
   "cell_type": "code",
   "execution_count": null,
   "metadata": {},
   "outputs": [],
   "source": []
  }
 ]
}