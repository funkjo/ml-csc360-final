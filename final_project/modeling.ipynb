{
 "metadata": {
  "language_info": {
   "codemirror_mode": {
    "name": "ipython",
    "version": 3
   },
   "file_extension": ".py",
   "mimetype": "text/x-python",
   "name": "python",
   "nbconvert_exporter": "python",
   "pygments_lexer": "ipython3",
   "version": "3.7.9-final"
  },
  "orig_nbformat": 2,
  "kernelspec": {
   "name": "python3",
   "display_name": "Python 3"
  }
 },
 "nbformat": 4,
 "nbformat_minor": 2,
 "cells": [
  {
   "cell_type": "code",
   "execution_count": 15,
   "metadata": {},
   "outputs": [
    {
     "output_type": "stream",
     "name": "stdout",
     "text": [
      "pandas  1.1.3\nnumpy  1.19.2\nsklearn 0.23.2\n"
     ]
    }
   ],
   "source": [
    "# create our machine learning models\n",
    "\n",
    "import pandas as pd\n",
    "import numpy as np\n",
    "import sklearn as sk\n",
    "\n",
    "print('pandas ', pd.__version__)\n",
    "print('numpy ', np.__version__)\n",
    "print('sklearn', sk.__version__)"
   ]
  },
  {
   "cell_type": "code",
   "execution_count": 16,
   "metadata": {},
   "outputs": [
    {
     "output_type": "execute_result",
     "data": {
      "text/plain": [
       "(2462, 23)"
      ]
     },
     "metadata": {},
     "execution_count": 16
    }
   ],
   "source": [
    "data = pd.read_csv('data/data.csv')\n",
    "data.shape"
   ]
  },
  {
   "cell_type": "code",
   "execution_count": 17,
   "metadata": {},
   "outputs": [
    {
     "output_type": "stream",
     "name": "stdout",
     "text": [
      "0       1\n1       0\n2       1\n3       0\n4       0\n       ..\n2457    1\n2458    1\n2459    1\n2460    1\n2461    1\nName: Attrition, Length: 2462, dtype: int64\n<class 'pandas.core.series.Series'>\n"
     ]
    }
   ],
   "source": [
    "y = data['Attrition']\n",
    "print(y)\n",
    "print(type(y))"
   ]
  },
  {
   "cell_type": "code",
   "execution_count": 18,
   "metadata": {},
   "outputs": [
    {
     "output_type": "stream",
     "name": "stdout",
     "text": [
      "             0         1         2         3         4         5         6  \\\n0     0.446350  0.742527 -1.010909 -1.701283 -0.660531  0.379672 -0.057788   \n1     1.322365 -1.297775 -0.147150 -1.699621  0.254625 -1.026167 -0.057788   \n2     0.008343  1.414363 -0.887515 -1.696298  1.169781 -1.026167 -0.961486   \n3    -0.429664  1.461466 -0.764121 -1.694636  1.169781  0.379672 -0.961486   \n4    -1.086676 -0.524295 -0.887515 -1.691313 -1.575686  0.379672 -0.961486   \n...        ...       ...       ...       ...       ...       ...       ...   \n2457 -0.968293 -0.454570 -1.010909 -0.366426 -1.575686 -2.317985 -0.961486   \n2458 -0.362479  0.542016 -0.612703  0.802424 -1.575686 -2.432006 -0.057788   \n2459 -1.574962 -1.682238 -0.609374 -0.083717 -1.343160  0.379672 -0.961486   \n2460  0.031068 -0.745596  1.468148  0.544617  1.169781 -0.241015  0.341201   \n2461 -0.621137 -1.119606  1.549345  0.604116  1.169781  0.379672 -0.057788   \n\n             7         8         9  ...        12        13        14  \\\n0     1.032716  1.153254  1.236820  ...  2.125136  1.591746 -1.584178   \n1     0.626374 -0.660853 -0.133282  ... -0.678049 -0.628241  1.191438   \n2    -0.998992  0.246200  1.236820  ...  1.324226  1.591746 -0.658973   \n3     0.626374  0.246200 -0.133282  ... -0.678049  1.591746  0.266233   \n4    -0.998992 -0.660853 -0.133282  ...  2.525591 -0.628241  1.191438   \n...        ...       ...       ...  ...       ...       ...       ...   \n2457  0.626374 -0.734420  1.236820  ...  1.692202  1.411693  1.116399   \n2458  0.114801 -0.660853  0.794674  ...  1.194995 -0.628241 -0.957546   \n2459 -0.998992 -1.337439  1.236820  ... -0.779798 -0.628241 -0.894052   \n2460  1.032716 -0.154270  0.471627  ... -0.724897  1.591746  0.266233   \n2461 -0.109686  0.246200 -0.133282  ... -0.703220  1.591746  1.133283   \n\n            15        16        17        18        19        20        21  \n0    -0.932014 -0.421642 -2.171982 -0.164613 -0.063296 -0.679146  0.245834  \n1     0.241988 -0.164511  0.155707  0.488508  0.764998 -0.368715  0.806541  \n2    -0.932014 -0.550208  0.155707 -1.144294 -1.167687 -0.679146 -1.155935  \n3    -0.932014 -0.421642  0.155707  0.161947  0.764998  0.252146 -1.155935  \n4     0.241988 -0.678774  0.155707 -0.817734 -0.615492 -0.058285 -0.595227  \n...        ...       ...       ...       ...       ...       ...       ...  \n2457 -0.932014 -0.154084  0.805745  0.025153  0.764998  0.176613  0.806541  \n2458 -0.932014  0.042936 -0.620189 -1.091602 -1.167687 -0.679146 -1.155935  \n2459 -0.932014 -1.223602 -0.423047 -0.898041 -1.027383 -0.600270 -1.013468  \n2460 -0.276341 -0.580289 -1.486855 -0.419084 -0.371694 -0.021969 -0.842783  \n2461  1.342198 -0.204917  0.009398  0.426929 -0.615492  1.124900  0.718432  \n\n[2462 rows x 22 columns]\n<class 'pandas.core.series.Series'>\n"
     ]
    }
   ],
   "source": [
    "X = data.drop(columns =['Attrition'])\n",
    "print(X)\n",
    "print(type(y))"
   ]
  },
  {
   "cell_type": "code",
   "execution_count": 19,
   "metadata": {},
   "outputs": [
    {
     "output_type": "stream",
     "name": "stdout",
     "text": [
      "[1 0 1 ... 1 1 1]\n<class 'numpy.ndarray'>\n(2462,)\n[[ 0.4463504   0.74252653 -1.01090934 ... -0.0632959  -0.67914568\n   0.24583399]\n [ 1.32236521 -1.2977746  -0.14714972 ...  0.76499762 -0.36871529\n   0.80654148]\n [ 0.008343    1.41436324 -0.88751511 ... -1.16768726 -0.67914568\n  -1.15593471]\n ...\n [-1.5749622  -1.68223792 -0.60937419 ... -1.02738338 -0.6002704\n  -1.01346812]\n [ 0.03106816 -0.74559632  1.46814803 ... -0.37169363 -0.02196853\n  -0.84278319]\n [-0.62113676 -1.1196061   1.54934531 ... -0.61549158  1.12489956\n   0.71843205]]\n<class 'numpy.ndarray'>\n(2462, 22)\n"
     ]
    }
   ],
   "source": [
    "# convert X and y to numpy arrays\n",
    "\n",
    "y = np.asarray(y)\n",
    "X = np.asarray(X)\n",
    "print(y)\n",
    "print(type(y))\n",
    "print(y.shape)\n",
    "\n",
    "print(X)\n",
    "print(type(X))\n",
    "print(X.shape)"
   ]
  },
  {
   "cell_type": "code",
   "execution_count": 20,
   "metadata": {},
   "outputs": [
    {
     "output_type": "stream",
     "name": "stdout",
     "text": [
      "\n 50.04780114722753  percent of training data is in class 1\n"
     ]
    }
   ],
   "source": [
    "from sklearn.model_selection import train_test_split\n",
    "\n",
    "random_seed = 30\n",
    "\n",
    "X_train, X_test, y_train, y_test = train_test_split(X,y,test_size=0.15,random_state=random_seed)\n",
    "\n",
    "numerator = y_train[y_train == 1].sum()\n",
    "denominator = len(y_train)\n",
    "print(\"\\n\", numerator/denominator * 100, \" percent of training data is in class 1\")"
   ]
  },
  {
   "cell_type": "code",
   "execution_count": null,
   "metadata": {},
   "outputs": [],
   "source": []
  },
  {
   "source": [
    "# KNN"
   ],
   "cell_type": "markdown",
   "metadata": {}
  },
  {
   "cell_type": "code",
   "execution_count": 22,
   "metadata": {},
   "outputs": [
    {
     "output_type": "stream",
     "name": "stdout",
     "text": [
      "\nTest accuracy: 0.8513513513513513\n"
     ]
    }
   ],
   "source": [
    "from sklearn.neighbors import KNeighborsClassifier\n",
    "from sklearn import metrics\n",
    "\n",
    "# Train logistic regression model (with default regularization) for binary classification\n",
    "model = KNeighborsClassifier(n_neighbors=5)\n",
    "model.fit(X_train, y_train)\n",
    "\n",
    "# Make predictions on test data and print the test accuracy\n",
    "y_pred = model.predict(X_test)\n",
    "test_accuracy = metrics.accuracy_score(y_test, y_pred)\n",
    "print('\\nTest accuracy: '+str(test_accuracy))"
   ]
  },
  {
   "cell_type": "code",
   "execution_count": null,
   "metadata": {},
   "outputs": [],
   "source": []
  }
 ]
}