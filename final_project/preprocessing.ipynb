{
 "cells": [
  {
   "cell_type": "code",
   "execution_count": 1,
   "metadata": {},
   "outputs": [
    {
     "output_type": "stream",
     "name": "stdout",
     "text": [
      "pandas  1.1.3\nnumpy  1.19.2\nsklearn 0.23.2\n"
     ]
    }
   ],
   "source": [
    "# Data Preprocessing\n",
    "\n",
    "import pandas as pd\n",
    "import numpy as np\n",
    "import sklearn as sk\n",
    "from sklearn.preprocessing import MinMaxScaler, StandardScaler, LabelEncoder \n",
    "\n",
    "print('pandas ', pd.__version__)\n",
    "print('numpy ', np.__version__)\n",
    "print('sklearn', sk.__version__)"
   ]
  },
  {
   "cell_type": "code",
   "execution_count": 2,
   "metadata": {},
   "outputs": [
    {
     "output_type": "execute_result",
     "data": {
      "text/plain": [
       "(1470, 35)"
      ]
     },
     "metadata": {},
     "execution_count": 2
    }
   ],
   "source": [
    "# Load the data\n",
    "data = pd.read_csv('data/WA_Fn-UseC_-HR-Employee-Attrition.csv')\n",
    "data.shape"
   ]
  },
  {
   "cell_type": "code",
   "execution_count": 3,
   "metadata": {},
   "outputs": [
    {
     "output_type": "stream",
     "name": "stdout",
     "text": [
      "0       Yes\n1        No\n2       Yes\n3        No\n4        No\n       ... \n1465     No\n1466     No\n1467     No\n1468     No\n1469     No\nName: Attrition, Length: 1470, dtype: object\n"
     ]
    }
   ],
   "source": [
    "# Separate true labels from attribute data\n",
    "y = data['Attrition']\n",
    "print(y)"
   ]
  },
  {
   "cell_type": "code",
   "execution_count": 4,
   "metadata": {},
   "outputs": [
    {
     "output_type": "stream",
     "name": "stdout",
     "text": [
      "      Age     BusinessTravel  DailyRate              Department  \\\n0      41      Travel_Rarely       1102                   Sales   \n1      49  Travel_Frequently        279  Research & Development   \n2      37      Travel_Rarely       1373  Research & Development   \n3      33  Travel_Frequently       1392  Research & Development   \n4      27      Travel_Rarely        591  Research & Development   \n...   ...                ...        ...                     ...   \n1465   36  Travel_Frequently        884  Research & Development   \n1466   39      Travel_Rarely        613  Research & Development   \n1467   27      Travel_Rarely        155  Research & Development   \n1468   49  Travel_Frequently       1023                   Sales   \n1469   34      Travel_Rarely        628  Research & Development   \n\n      DistanceFromHome  Education EducationField  EmployeeCount  \\\n0                    1          2  Life Sciences              1   \n1                    8          1  Life Sciences              1   \n2                    2          2          Other              1   \n3                    3          4  Life Sciences              1   \n4                    2          1        Medical              1   \n...                ...        ...            ...            ...   \n1465                23          2        Medical              1   \n1466                 6          1        Medical              1   \n1467                 4          3  Life Sciences              1   \n1468                 2          3        Medical              1   \n1469                 8          3        Medical              1   \n\n      EmployeeNumber  EnvironmentSatisfaction  ... RelationshipSatisfaction  \\\n0                  1                        2  ...                        1   \n1                  2                        3  ...                        4   \n2                  4                        4  ...                        2   \n3                  5                        4  ...                        3   \n4                  7                        1  ...                        4   \n...              ...                      ...  ...                      ...   \n1465            2061                        3  ...                        3   \n1466            2062                        4  ...                        1   \n1467            2064                        2  ...                        2   \n1468            2065                        4  ...                        4   \n1469            2068                        2  ...                        1   \n\n      StandardHours  StockOptionLevel  TotalWorkingYears  \\\n0                80                 0                  8   \n1                80                 1                 10   \n2                80                 0                  7   \n3                80                 0                  8   \n4                80                 1                  6   \n...             ...               ...                ...   \n1465             80                 1                 17   \n1466             80                 1                  9   \n1467             80                 1                  6   \n1468             80                 0                 17   \n1469             80                 0                  6   \n\n     TrainingTimesLastYear  WorkLifeBalance YearsAtCompany  \\\n0                        0                1              6   \n1                        3                3             10   \n2                        3                3              0   \n3                        3                3              8   \n4                        3                3              2   \n...                    ...              ...            ...   \n1465                     3                3              5   \n1466                     5                3              7   \n1467                     0                3              6   \n1468                     3                2              9   \n1469                     3                4              4   \n\n      YearsInCurrentRole  YearsSinceLastPromotion  YearsWithCurrManager  \n0                      4                        0                     5  \n1                      7                        1                     7  \n2                      0                        0                     0  \n3                      7                        3                     0  \n4                      2                        2                     2  \n...                  ...                      ...                   ...  \n1465                   2                        0                     3  \n1466                   7                        1                     7  \n1467                   2                        0                     3  \n1468                   6                        0                     8  \n1469                   3                        1                     2  \n\n[1470 rows x 34 columns]\n"
     ]
    }
   ],
   "source": [
    "# Separate true labels from attribute data\n",
    "X = data.drop(columns =['Attrition'])\n",
    "print(X)"
   ]
  },
  {
   "cell_type": "code",
   "execution_count": 5,
   "metadata": {},
   "outputs": [],
   "source": [
    "def transform(feature):\n",
    "    \"\"\"\n",
    "    Function to transform categorical features into numerical features\n",
    "    \"\"\"\n",
    "    le=LabelEncoder()\n",
    "    X[feature]=le.fit_transform(X[feature])\n",
    "    print(le.classes_)"
   ]
  },
  {
   "cell_type": "code",
   "execution_count": 6,
   "metadata": {},
   "outputs": [
    {
     "output_type": "execute_result",
     "data": {
      "text/plain": [
       "Index(['BusinessTravel', 'Department', 'EducationField', 'Gender', 'JobRole',\n",
       "       'MaritalStatus', 'Over18', 'OverTime'],\n",
       "      dtype='object')"
      ]
     },
     "metadata": {},
     "execution_count": 6
    }
   ],
   "source": [
    "cat_df=X.select_dtypes(include='object')\n",
    "cat_df.columns"
   ]
  },
  {
   "cell_type": "code",
   "execution_count": 7,
   "metadata": {},
   "outputs": [
    {
     "output_type": "stream",
     "name": "stdout",
     "text": [
      "['Non-Travel' 'Travel_Frequently' 'Travel_Rarely']\n['Human Resources' 'Research & Development' 'Sales']\n['Human Resources' 'Life Sciences' 'Marketing' 'Medical' 'Other'\n 'Technical Degree']\n['Female' 'Male']\n['Healthcare Representative' 'Human Resources' 'Laboratory Technician'\n 'Manager' 'Manufacturing Director' 'Research Director'\n 'Research Scientist' 'Sales Executive' 'Sales Representative']\n['Divorced' 'Married' 'Single']\n['Y']\n['No' 'Yes']\n"
     ]
    }
   ],
   "source": [
    "for col in cat_df.columns:\n",
    "    transform(col)"
   ]
  },
  {
   "cell_type": "code",
   "execution_count": 8,
   "metadata": {},
   "outputs": [],
   "source": [
    "# transform y\n",
    "le=LabelEncoder()\n",
    "y=le.fit_transform(y)\n"
   ]
  },
  {
   "cell_type": "code",
   "execution_count": 9,
   "metadata": {},
   "outputs": [
    {
     "output_type": "stream",
     "name": "stdout",
     "text": [
      "[1 0 1 ... 0 0 0]\n"
     ]
    }
   ],
   "source": [
    "print(y)"
   ]
  },
  {
   "cell_type": "code",
   "execution_count": 10,
   "metadata": {},
   "outputs": [
    {
     "output_type": "execute_result",
     "data": {
      "text/plain": [
       "   Age  BusinessTravel  DailyRate  Department  DistanceFromHome  Education  \\\n",
       "0   41               2       1102           2                 1          2   \n",
       "1   49               1        279           1                 8          1   \n",
       "2   37               2       1373           1                 2          2   \n",
       "3   33               1       1392           1                 3          4   \n",
       "4   27               2        591           1                 2          1   \n",
       "\n",
       "   EducationField  EmployeeCount  EmployeeNumber  EnvironmentSatisfaction  \\\n",
       "0               1              1               1                        2   \n",
       "1               1              1               2                        3   \n",
       "2               4              1               4                        4   \n",
       "3               1              1               5                        4   \n",
       "4               3              1               7                        1   \n",
       "\n",
       "   ...  RelationshipSatisfaction  StandardHours  StockOptionLevel  \\\n",
       "0  ...                         1             80                 0   \n",
       "1  ...                         4             80                 1   \n",
       "2  ...                         2             80                 0   \n",
       "3  ...                         3             80                 0   \n",
       "4  ...                         4             80                 1   \n",
       "\n",
       "   TotalWorkingYears  TrainingTimesLastYear  WorkLifeBalance  YearsAtCompany  \\\n",
       "0                  8                      0                1               6   \n",
       "1                 10                      3                3              10   \n",
       "2                  7                      3                3               0   \n",
       "3                  8                      3                3               8   \n",
       "4                  6                      3                3               2   \n",
       "\n",
       "   YearsInCurrentRole  YearsSinceLastPromotion  YearsWithCurrManager  \n",
       "0                   4                        0                     5  \n",
       "1                   7                        1                     7  \n",
       "2                   0                        0                     0  \n",
       "3                   7                        3                     0  \n",
       "4                   2                        2                     2  \n",
       "\n",
       "[5 rows x 34 columns]"
      ],
      "text/html": "<div>\n<style scoped>\n    .dataframe tbody tr th:only-of-type {\n        vertical-align: middle;\n    }\n\n    .dataframe tbody tr th {\n        vertical-align: top;\n    }\n\n    .dataframe thead th {\n        text-align: right;\n    }\n</style>\n<table border=\"1\" class=\"dataframe\">\n  <thead>\n    <tr style=\"text-align: right;\">\n      <th></th>\n      <th>Age</th>\n      <th>BusinessTravel</th>\n      <th>DailyRate</th>\n      <th>Department</th>\n      <th>DistanceFromHome</th>\n      <th>Education</th>\n      <th>EducationField</th>\n      <th>EmployeeCount</th>\n      <th>EmployeeNumber</th>\n      <th>EnvironmentSatisfaction</th>\n      <th>...</th>\n      <th>RelationshipSatisfaction</th>\n      <th>StandardHours</th>\n      <th>StockOptionLevel</th>\n      <th>TotalWorkingYears</th>\n      <th>TrainingTimesLastYear</th>\n      <th>WorkLifeBalance</th>\n      <th>YearsAtCompany</th>\n      <th>YearsInCurrentRole</th>\n      <th>YearsSinceLastPromotion</th>\n      <th>YearsWithCurrManager</th>\n    </tr>\n  </thead>\n  <tbody>\n    <tr>\n      <th>0</th>\n      <td>41</td>\n      <td>2</td>\n      <td>1102</td>\n      <td>2</td>\n      <td>1</td>\n      <td>2</td>\n      <td>1</td>\n      <td>1</td>\n      <td>1</td>\n      <td>2</td>\n      <td>...</td>\n      <td>1</td>\n      <td>80</td>\n      <td>0</td>\n      <td>8</td>\n      <td>0</td>\n      <td>1</td>\n      <td>6</td>\n      <td>4</td>\n      <td>0</td>\n      <td>5</td>\n    </tr>\n    <tr>\n      <th>1</th>\n      <td>49</td>\n      <td>1</td>\n      <td>279</td>\n      <td>1</td>\n      <td>8</td>\n      <td>1</td>\n      <td>1</td>\n      <td>1</td>\n      <td>2</td>\n      <td>3</td>\n      <td>...</td>\n      <td>4</td>\n      <td>80</td>\n      <td>1</td>\n      <td>10</td>\n      <td>3</td>\n      <td>3</td>\n      <td>10</td>\n      <td>7</td>\n      <td>1</td>\n      <td>7</td>\n    </tr>\n    <tr>\n      <th>2</th>\n      <td>37</td>\n      <td>2</td>\n      <td>1373</td>\n      <td>1</td>\n      <td>2</td>\n      <td>2</td>\n      <td>4</td>\n      <td>1</td>\n      <td>4</td>\n      <td>4</td>\n      <td>...</td>\n      <td>2</td>\n      <td>80</td>\n      <td>0</td>\n      <td>7</td>\n      <td>3</td>\n      <td>3</td>\n      <td>0</td>\n      <td>0</td>\n      <td>0</td>\n      <td>0</td>\n    </tr>\n    <tr>\n      <th>3</th>\n      <td>33</td>\n      <td>1</td>\n      <td>1392</td>\n      <td>1</td>\n      <td>3</td>\n      <td>4</td>\n      <td>1</td>\n      <td>1</td>\n      <td>5</td>\n      <td>4</td>\n      <td>...</td>\n      <td>3</td>\n      <td>80</td>\n      <td>0</td>\n      <td>8</td>\n      <td>3</td>\n      <td>3</td>\n      <td>8</td>\n      <td>7</td>\n      <td>3</td>\n      <td>0</td>\n    </tr>\n    <tr>\n      <th>4</th>\n      <td>27</td>\n      <td>2</td>\n      <td>591</td>\n      <td>1</td>\n      <td>2</td>\n      <td>1</td>\n      <td>3</td>\n      <td>1</td>\n      <td>7</td>\n      <td>1</td>\n      <td>...</td>\n      <td>4</td>\n      <td>80</td>\n      <td>1</td>\n      <td>6</td>\n      <td>3</td>\n      <td>3</td>\n      <td>2</td>\n      <td>2</td>\n      <td>2</td>\n      <td>2</td>\n    </tr>\n  </tbody>\n</table>\n<p>5 rows × 34 columns</p>\n</div>"
     },
     "metadata": {},
     "execution_count": 10
    }
   ],
   "source": [
    "X.head()"
   ]
  },
  {
   "source": [
    "# Feature Selection"
   ],
   "cell_type": "markdown",
   "metadata": {}
  },
  {
   "cell_type": "code",
   "execution_count": 64,
   "metadata": {},
   "outputs": [
    {
     "output_type": "stream",
     "name": "stdout",
     "text": [
      "['Age', 'DailyRate', 'DistanceFromHome', 'EmployeeNumber', 'EnvironmentSatisfaction', 'JobInvolvement', 'JobLevel', 'JobRole', 'JobSatisfaction', 'MaritalStatus', 'MonthlyIncome', 'MonthlyRate', 'NumCompaniesWorked', 'OverTime', 'RelationshipSatisfaction', 'StockOptionLevel', 'TotalWorkingYears', 'TrainingTimesLastYear', 'YearsAtCompany', 'YearsInCurrentRole', 'YearsSinceLastPromotion', 'YearsWithCurrManager']\n"
     ]
    }
   ],
   "source": [
    "from sklearn.feature_selection import SelectKBest\n",
    "from sklearn.feature_selection import chi2\n",
    "\n",
    "# Feature selection\n",
    "# Use the built in scikit-learn function SelectKBest to select features\n",
    "# Arbitrarily chose 22 features\n",
    "\n",
    "selector = SelectKBest(chi2, k=22)\n",
    "\n",
    "X_auto = selector.fit_transform(X,y)\n",
    "selected_features = selector.get_support()\n",
    "\n",
    "column_headers = []\n",
    "\n",
    "for i in range(len(X.columns)):\n",
    "    if selected_features[i] == True:\n",
    "        column_headers.append(X.columns[i])\n",
    "\n",
    "print(column_headers)"
   ]
  },
  {
   "cell_type": "code",
   "execution_count": 65,
   "metadata": {},
   "outputs": [
    {
     "output_type": "execute_result",
     "data": {
      "text/plain": [
       "(1470, 22)"
      ]
     },
     "metadata": {},
     "execution_count": 65
    }
   ],
   "source": [
    "X_auto.shape"
   ]
  },
  {
   "cell_type": "code",
   "execution_count": 66,
   "metadata": {
    "tags": []
   },
   "outputs": [],
   "source": [
    "# Standardize the data\n",
    "\n",
    "scaler=StandardScaler()\n",
    "scaled_df=scaler.fit_transform(X_auto)\n",
    "X_new = scaled_df\n"
   ]
  },
  {
   "cell_type": "code",
   "execution_count": 67,
   "metadata": {},
   "outputs": [
    {
     "output_type": "stream",
     "name": "stdout",
     "text": [
      "[ 0.4463504   0.74252653 -1.01090934 -1.70128295 -0.66053067  0.37967213\n -0.05778755  1.03271569  1.15325359  1.23682046 -0.10834951  0.72601994\n  2.12513592  1.59174553 -1.58417824 -0.93201439 -0.42164246 -2.17198183\n -0.16461311 -0.0632959  -0.67914568  0.24583399]\n"
     ]
    }
   ],
   "source": [
    "print(X_new[0])"
   ]
  },
  {
   "source": [
    "# Balance the Dataset"
   ],
   "cell_type": "markdown",
   "metadata": {}
  },
  {
   "cell_type": "code",
   "execution_count": 68,
   "metadata": {},
   "outputs": [],
   "source": [
    "# combine SMOTE and Tomek techniques to balance the data\n",
    "\n",
    "from imblearn.combine import SMOTETomek\n",
    "\n",
    "smt = SMOTETomek(sampling_strategy='auto')\n",
    "X_smt, y_smt = smt.fit_sample(X_new, y)"
   ]
  },
  {
   "cell_type": "code",
   "execution_count": 69,
   "metadata": {},
   "outputs": [],
   "source": [
    "df = pd.DataFrame(X_smt, columns = column_headers)"
   ]
  },
  {
   "cell_type": "code",
   "execution_count": 70,
   "metadata": {},
   "outputs": [],
   "source": [
    "df['Attrition'] = y_smt"
   ]
  },
  {
   "cell_type": "code",
   "execution_count": 71,
   "metadata": {},
   "outputs": [
    {
     "output_type": "execute_result",
     "data": {
      "text/plain": [
       "        Age  DailyRate  DistanceFromHome  EmployeeNumber  \\\n",
       "0  0.446350   0.742527         -1.010909       -1.701283   \n",
       "1  1.322365  -1.297775         -0.147150       -1.699621   \n",
       "2  0.008343   1.414363         -0.887515       -1.696298   \n",
       "3 -0.429664   1.461466         -0.764121       -1.694636   \n",
       "4 -1.086676  -0.524295         -0.887515       -1.691313   \n",
       "\n",
       "   EnvironmentSatisfaction  JobInvolvement  JobLevel   JobRole  \\\n",
       "0                -0.660531        0.379672 -0.057788  1.032716   \n",
       "1                 0.254625       -1.026167 -0.057788  0.626374   \n",
       "2                 1.169781       -1.026167 -0.961486 -0.998992   \n",
       "3                 1.169781        0.379672 -0.961486  0.626374   \n",
       "4                -1.575686        0.379672 -0.961486 -0.998992   \n",
       "\n",
       "   JobSatisfaction  MaritalStatus  ...  OverTime  RelationshipSatisfaction  \\\n",
       "0         1.153254       1.236820  ...  1.591746                 -1.584178   \n",
       "1        -0.660853      -0.133282  ... -0.628241                  1.191438   \n",
       "2         0.246200       1.236820  ...  1.591746                 -0.658973   \n",
       "3         0.246200      -0.133282  ...  1.591746                  0.266233   \n",
       "4        -0.660853      -0.133282  ... -0.628241                  1.191438   \n",
       "\n",
       "   StockOptionLevel  TotalWorkingYears  TrainingTimesLastYear  YearsAtCompany  \\\n",
       "0         -0.932014          -0.421642              -2.171982       -0.164613   \n",
       "1          0.241988          -0.164511               0.155707        0.488508   \n",
       "2         -0.932014          -0.550208               0.155707       -1.144294   \n",
       "3         -0.932014          -0.421642               0.155707        0.161947   \n",
       "4          0.241988          -0.678774               0.155707       -0.817734   \n",
       "\n",
       "   YearsInCurrentRole  YearsSinceLastPromotion  YearsWithCurrManager  \\\n",
       "0           -0.063296                -0.679146              0.245834   \n",
       "1            0.764998                -0.368715              0.806541   \n",
       "2           -1.167687                -0.679146             -1.155935   \n",
       "3            0.764998                 0.252146             -1.155935   \n",
       "4           -0.615492                -0.058285             -0.595227   \n",
       "\n",
       "   Attrition  \n",
       "0          1  \n",
       "1          0  \n",
       "2          1  \n",
       "3          0  \n",
       "4          0  \n",
       "\n",
       "[5 rows x 23 columns]"
      ],
      "text/html": "<div>\n<style scoped>\n    .dataframe tbody tr th:only-of-type {\n        vertical-align: middle;\n    }\n\n    .dataframe tbody tr th {\n        vertical-align: top;\n    }\n\n    .dataframe thead th {\n        text-align: right;\n    }\n</style>\n<table border=\"1\" class=\"dataframe\">\n  <thead>\n    <tr style=\"text-align: right;\">\n      <th></th>\n      <th>Age</th>\n      <th>DailyRate</th>\n      <th>DistanceFromHome</th>\n      <th>EmployeeNumber</th>\n      <th>EnvironmentSatisfaction</th>\n      <th>JobInvolvement</th>\n      <th>JobLevel</th>\n      <th>JobRole</th>\n      <th>JobSatisfaction</th>\n      <th>MaritalStatus</th>\n      <th>...</th>\n      <th>OverTime</th>\n      <th>RelationshipSatisfaction</th>\n      <th>StockOptionLevel</th>\n      <th>TotalWorkingYears</th>\n      <th>TrainingTimesLastYear</th>\n      <th>YearsAtCompany</th>\n      <th>YearsInCurrentRole</th>\n      <th>YearsSinceLastPromotion</th>\n      <th>YearsWithCurrManager</th>\n      <th>Attrition</th>\n    </tr>\n  </thead>\n  <tbody>\n    <tr>\n      <th>0</th>\n      <td>0.446350</td>\n      <td>0.742527</td>\n      <td>-1.010909</td>\n      <td>-1.701283</td>\n      <td>-0.660531</td>\n      <td>0.379672</td>\n      <td>-0.057788</td>\n      <td>1.032716</td>\n      <td>1.153254</td>\n      <td>1.236820</td>\n      <td>...</td>\n      <td>1.591746</td>\n      <td>-1.584178</td>\n      <td>-0.932014</td>\n      <td>-0.421642</td>\n      <td>-2.171982</td>\n      <td>-0.164613</td>\n      <td>-0.063296</td>\n      <td>-0.679146</td>\n      <td>0.245834</td>\n      <td>1</td>\n    </tr>\n    <tr>\n      <th>1</th>\n      <td>1.322365</td>\n      <td>-1.297775</td>\n      <td>-0.147150</td>\n      <td>-1.699621</td>\n      <td>0.254625</td>\n      <td>-1.026167</td>\n      <td>-0.057788</td>\n      <td>0.626374</td>\n      <td>-0.660853</td>\n      <td>-0.133282</td>\n      <td>...</td>\n      <td>-0.628241</td>\n      <td>1.191438</td>\n      <td>0.241988</td>\n      <td>-0.164511</td>\n      <td>0.155707</td>\n      <td>0.488508</td>\n      <td>0.764998</td>\n      <td>-0.368715</td>\n      <td>0.806541</td>\n      <td>0</td>\n    </tr>\n    <tr>\n      <th>2</th>\n      <td>0.008343</td>\n      <td>1.414363</td>\n      <td>-0.887515</td>\n      <td>-1.696298</td>\n      <td>1.169781</td>\n      <td>-1.026167</td>\n      <td>-0.961486</td>\n      <td>-0.998992</td>\n      <td>0.246200</td>\n      <td>1.236820</td>\n      <td>...</td>\n      <td>1.591746</td>\n      <td>-0.658973</td>\n      <td>-0.932014</td>\n      <td>-0.550208</td>\n      <td>0.155707</td>\n      <td>-1.144294</td>\n      <td>-1.167687</td>\n      <td>-0.679146</td>\n      <td>-1.155935</td>\n      <td>1</td>\n    </tr>\n    <tr>\n      <th>3</th>\n      <td>-0.429664</td>\n      <td>1.461466</td>\n      <td>-0.764121</td>\n      <td>-1.694636</td>\n      <td>1.169781</td>\n      <td>0.379672</td>\n      <td>-0.961486</td>\n      <td>0.626374</td>\n      <td>0.246200</td>\n      <td>-0.133282</td>\n      <td>...</td>\n      <td>1.591746</td>\n      <td>0.266233</td>\n      <td>-0.932014</td>\n      <td>-0.421642</td>\n      <td>0.155707</td>\n      <td>0.161947</td>\n      <td>0.764998</td>\n      <td>0.252146</td>\n      <td>-1.155935</td>\n      <td>0</td>\n    </tr>\n    <tr>\n      <th>4</th>\n      <td>-1.086676</td>\n      <td>-0.524295</td>\n      <td>-0.887515</td>\n      <td>-1.691313</td>\n      <td>-1.575686</td>\n      <td>0.379672</td>\n      <td>-0.961486</td>\n      <td>-0.998992</td>\n      <td>-0.660853</td>\n      <td>-0.133282</td>\n      <td>...</td>\n      <td>-0.628241</td>\n      <td>1.191438</td>\n      <td>0.241988</td>\n      <td>-0.678774</td>\n      <td>0.155707</td>\n      <td>-0.817734</td>\n      <td>-0.615492</td>\n      <td>-0.058285</td>\n      <td>-0.595227</td>\n      <td>0</td>\n    </tr>\n  </tbody>\n</table>\n<p>5 rows × 23 columns</p>\n</div>"
     },
     "metadata": {},
     "execution_count": 71
    }
   ],
   "source": [
    "df.head()"
   ]
  },
  {
   "cell_type": "code",
   "execution_count": 72,
   "metadata": {},
   "outputs": [
    {
     "output_type": "execute_result",
     "data": {
      "text/plain": [
       "(2464, 23)"
      ]
     },
     "metadata": {},
     "execution_count": 72
    }
   ],
   "source": [
    "df.shape"
   ]
  },
  {
   "cell_type": "code",
   "execution_count": 73,
   "metadata": {},
   "outputs": [],
   "source": [
    "# Save the prepocessed data\n",
    "df.to_csv(r'data/data.csv', index=False)"
   ]
  },
  {
   "cell_type": "code",
   "execution_count": null,
   "metadata": {},
   "outputs": [],
   "source": []
  }
 ],
 "metadata": {
  "kernelspec": {
   "name": "python3",
   "display_name": "Python 3.7.9 64-bit ('ml_python': conda)",
   "metadata": {
    "interpreter": {
     "hash": "425c0ff3b57f916dcf47ed9bc3b06c8afea4e3946eb75ed292419f63c36692ce"
    }
   }
  },
  "language_info": {
   "codemirror_mode": {
    "name": "ipython",
    "version": 3
   },
   "file_extension": ".py",
   "mimetype": "text/x-python",
   "name": "python",
   "nbconvert_exporter": "python",
   "pygments_lexer": "ipython3",
   "version": "3.7.9-final"
  }
 },
 "nbformat": 4,
 "nbformat_minor": 2
}