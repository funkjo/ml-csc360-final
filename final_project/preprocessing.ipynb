{
 "cells": [
  {
   "cell_type": "code",
   "execution_count": 1,
   "metadata": {},
   "outputs": [
    {
     "output_type": "stream",
     "name": "stdout",
     "text": [
      "pandas  1.1.3\nnumpy  1.19.2\nsklearn 0.23.2\n"
     ]
    }
   ],
   "source": [
    "# Data Preprocessing\n",
    "\n",
    "import pandas as pd\n",
    "import numpy as np\n",
    "import sklearn as sk\n",
    "from sklearn.preprocessing import MinMaxScaler, StandardScaler, LabelEncoder \n",
    "\n",
    "print('pandas ', pd.__version__)\n",
    "print('numpy ', np.__version__)\n",
    "print('sklearn', sk.__version__)"
   ]
  },
  {
   "cell_type": "code",
   "execution_count": 2,
   "metadata": {},
   "outputs": [
    {
     "output_type": "execute_result",
     "data": {
      "text/plain": [
       "(1470, 35)"
      ]
     },
     "metadata": {},
     "execution_count": 2
    }
   ],
   "source": [
    "# Load the data\n",
    "data = pd.read_csv('data/WA_Fn-UseC_-HR-Employee-Attrition.csv')\n",
    "data.shape"
   ]
  },
  {
   "cell_type": "code",
   "execution_count": 3,
   "metadata": {},
   "outputs": [
    {
     "output_type": "stream",
     "name": "stdout",
     "text": [
      "0       Yes\n1        No\n2       Yes\n3        No\n4        No\n       ... \n1465     No\n1466     No\n1467     No\n1468     No\n1469     No\nName: Attrition, Length: 1470, dtype: object\n"
     ]
    }
   ],
   "source": [
    "# Separate true labels from attribute data\n",
    "y = data['Attrition']\n",
    "print(y)"
   ]
  },
  {
   "cell_type": "code",
   "execution_count": 4,
   "metadata": {},
   "outputs": [
    {
     "output_type": "stream",
     "name": "stdout",
     "text": [
      "      Age     BusinessTravel  DailyRate              Department  \\\n0      41      Travel_Rarely       1102                   Sales   \n1      49  Travel_Frequently        279  Research & Development   \n2      37      Travel_Rarely       1373  Research & Development   \n3      33  Travel_Frequently       1392  Research & Development   \n4      27      Travel_Rarely        591  Research & Development   \n...   ...                ...        ...                     ...   \n1465   36  Travel_Frequently        884  Research & Development   \n1466   39      Travel_Rarely        613  Research & Development   \n1467   27      Travel_Rarely        155  Research & Development   \n1468   49  Travel_Frequently       1023                   Sales   \n1469   34      Travel_Rarely        628  Research & Development   \n\n      DistanceFromHome  Education EducationField  EmployeeCount  \\\n0                    1          2  Life Sciences              1   \n1                    8          1  Life Sciences              1   \n2                    2          2          Other              1   \n3                    3          4  Life Sciences              1   \n4                    2          1        Medical              1   \n...                ...        ...            ...            ...   \n1465                23          2        Medical              1   \n1466                 6          1        Medical              1   \n1467                 4          3  Life Sciences              1   \n1468                 2          3        Medical              1   \n1469                 8          3        Medical              1   \n\n      EmployeeNumber  EnvironmentSatisfaction  ... RelationshipSatisfaction  \\\n0                  1                        2  ...                        1   \n1                  2                        3  ...                        4   \n2                  4                        4  ...                        2   \n3                  5                        4  ...                        3   \n4                  7                        1  ...                        4   \n...              ...                      ...  ...                      ...   \n1465            2061                        3  ...                        3   \n1466            2062                        4  ...                        1   \n1467            2064                        2  ...                        2   \n1468            2065                        4  ...                        4   \n1469            2068                        2  ...                        1   \n\n      StandardHours  StockOptionLevel  TotalWorkingYears  \\\n0                80                 0                  8   \n1                80                 1                 10   \n2                80                 0                  7   \n3                80                 0                  8   \n4                80                 1                  6   \n...             ...               ...                ...   \n1465             80                 1                 17   \n1466             80                 1                  9   \n1467             80                 1                  6   \n1468             80                 0                 17   \n1469             80                 0                  6   \n\n     TrainingTimesLastYear  WorkLifeBalance YearsAtCompany  \\\n0                        0                1              6   \n1                        3                3             10   \n2                        3                3              0   \n3                        3                3              8   \n4                        3                3              2   \n...                    ...              ...            ...   \n1465                     3                3              5   \n1466                     5                3              7   \n1467                     0                3              6   \n1468                     3                2              9   \n1469                     3                4              4   \n\n      YearsInCurrentRole  YearsSinceLastPromotion  YearsWithCurrManager  \n0                      4                        0                     5  \n1                      7                        1                     7  \n2                      0                        0                     0  \n3                      7                        3                     0  \n4                      2                        2                     2  \n...                  ...                      ...                   ...  \n1465                   2                        0                     3  \n1466                   7                        1                     7  \n1467                   2                        0                     3  \n1468                   6                        0                     8  \n1469                   3                        1                     2  \n\n[1470 rows x 34 columns]\n"
     ]
    }
   ],
   "source": [
    "# Separate true labels from attribute data\n",
    "X = data.drop(columns =['Attrition'])\n",
    "print(X)"
   ]
  },
  {
   "cell_type": "code",
   "execution_count": 5,
   "metadata": {},
   "outputs": [],
   "source": [
    "def transform(feature):\n",
    "    \"\"\"\n",
    "    Function to transform categorical features into numerical features\n",
    "    \"\"\"\n",
    "    le=LabelEncoder()\n",
    "    X[feature]=le.fit_transform(X[feature])\n",
    "    print(le.classes_)"
   ]
  },
  {
   "cell_type": "code",
   "execution_count": 6,
   "metadata": {},
   "outputs": [
    {
     "output_type": "execute_result",
     "data": {
      "text/plain": [
       "Index(['BusinessTravel', 'Department', 'EducationField', 'Gender', 'JobRole',\n",
       "       'MaritalStatus', 'Over18', 'OverTime'],\n",
       "      dtype='object')"
      ]
     },
     "metadata": {},
     "execution_count": 6
    }
   ],
   "source": [
    "cat_df=X.select_dtypes(include='object')\n",
    "cat_df.columns"
   ]
  },
  {
   "cell_type": "code",
   "execution_count": 7,
   "metadata": {},
   "outputs": [
    {
     "output_type": "stream",
     "name": "stdout",
     "text": [
      "['Non-Travel' 'Travel_Frequently' 'Travel_Rarely']\n['Human Resources' 'Research & Development' 'Sales']\n['Human Resources' 'Life Sciences' 'Marketing' 'Medical' 'Other'\n 'Technical Degree']\n['Female' 'Male']\n['Healthcare Representative' 'Human Resources' 'Laboratory Technician'\n 'Manager' 'Manufacturing Director' 'Research Director'\n 'Research Scientist' 'Sales Executive' 'Sales Representative']\n['Divorced' 'Married' 'Single']\n['Y']\n['No' 'Yes']\n"
     ]
    }
   ],
   "source": [
    "for col in cat_df.columns:\n",
    "    transform(col)"
   ]
  },
  {
   "cell_type": "code",
   "execution_count": 8,
   "metadata": {},
   "outputs": [],
   "source": [
    "# transform y\n",
    "le=LabelEncoder()\n",
    "y=le.fit_transform(y)\n"
   ]
  },
  {
   "cell_type": "code",
   "execution_count": 9,
   "metadata": {},
   "outputs": [
    {
     "output_type": "stream",
     "name": "stdout",
     "text": [
      "[1 0 1 ... 0 0 0]\n"
     ]
    }
   ],
   "source": [
    "print(y)"
   ]
  },
  {
   "cell_type": "code",
   "execution_count": 10,
   "metadata": {},
   "outputs": [
    {
     "output_type": "execute_result",
     "data": {
      "text/plain": [
       "   Age  BusinessTravel  DailyRate  Department  DistanceFromHome  Education  \\\n",
       "0   41               2       1102           2                 1          2   \n",
       "1   49               1        279           1                 8          1   \n",
       "2   37               2       1373           1                 2          2   \n",
       "3   33               1       1392           1                 3          4   \n",
       "4   27               2        591           1                 2          1   \n",
       "\n",
       "   EducationField  EmployeeCount  EmployeeNumber  EnvironmentSatisfaction  \\\n",
       "0               1              1               1                        2   \n",
       "1               1              1               2                        3   \n",
       "2               4              1               4                        4   \n",
       "3               1              1               5                        4   \n",
       "4               3              1               7                        1   \n",
       "\n",
       "   ...  RelationshipSatisfaction  StandardHours  StockOptionLevel  \\\n",
       "0  ...                         1             80                 0   \n",
       "1  ...                         4             80                 1   \n",
       "2  ...                         2             80                 0   \n",
       "3  ...                         3             80                 0   \n",
       "4  ...                         4             80                 1   \n",
       "\n",
       "   TotalWorkingYears  TrainingTimesLastYear  WorkLifeBalance  YearsAtCompany  \\\n",
       "0                  8                      0                1               6   \n",
       "1                 10                      3                3              10   \n",
       "2                  7                      3                3               0   \n",
       "3                  8                      3                3               8   \n",
       "4                  6                      3                3               2   \n",
       "\n",
       "   YearsInCurrentRole  YearsSinceLastPromotion  YearsWithCurrManager  \n",
       "0                   4                        0                     5  \n",
       "1                   7                        1                     7  \n",
       "2                   0                        0                     0  \n",
       "3                   7                        3                     0  \n",
       "4                   2                        2                     2  \n",
       "\n",
       "[5 rows x 34 columns]"
      ],
      "text/html": "<div>\n<style scoped>\n    .dataframe tbody tr th:only-of-type {\n        vertical-align: middle;\n    }\n\n    .dataframe tbody tr th {\n        vertical-align: top;\n    }\n\n    .dataframe thead th {\n        text-align: right;\n    }\n</style>\n<table border=\"1\" class=\"dataframe\">\n  <thead>\n    <tr style=\"text-align: right;\">\n      <th></th>\n      <th>Age</th>\n      <th>BusinessTravel</th>\n      <th>DailyRate</th>\n      <th>Department</th>\n      <th>DistanceFromHome</th>\n      <th>Education</th>\n      <th>EducationField</th>\n      <th>EmployeeCount</th>\n      <th>EmployeeNumber</th>\n      <th>EnvironmentSatisfaction</th>\n      <th>...</th>\n      <th>RelationshipSatisfaction</th>\n      <th>StandardHours</th>\n      <th>StockOptionLevel</th>\n      <th>TotalWorkingYears</th>\n      <th>TrainingTimesLastYear</th>\n      <th>WorkLifeBalance</th>\n      <th>YearsAtCompany</th>\n      <th>YearsInCurrentRole</th>\n      <th>YearsSinceLastPromotion</th>\n      <th>YearsWithCurrManager</th>\n    </tr>\n  </thead>\n  <tbody>\n    <tr>\n      <th>0</th>\n      <td>41</td>\n      <td>2</td>\n      <td>1102</td>\n      <td>2</td>\n      <td>1</td>\n      <td>2</td>\n      <td>1</td>\n      <td>1</td>\n      <td>1</td>\n      <td>2</td>\n      <td>...</td>\n      <td>1</td>\n      <td>80</td>\n      <td>0</td>\n      <td>8</td>\n      <td>0</td>\n      <td>1</td>\n      <td>6</td>\n      <td>4</td>\n      <td>0</td>\n      <td>5</td>\n    </tr>\n    <tr>\n      <th>1</th>\n      <td>49</td>\n      <td>1</td>\n      <td>279</td>\n      <td>1</td>\n      <td>8</td>\n      <td>1</td>\n      <td>1</td>\n      <td>1</td>\n      <td>2</td>\n      <td>3</td>\n      <td>...</td>\n      <td>4</td>\n      <td>80</td>\n      <td>1</td>\n      <td>10</td>\n      <td>3</td>\n      <td>3</td>\n      <td>10</td>\n      <td>7</td>\n      <td>1</td>\n      <td>7</td>\n    </tr>\n    <tr>\n      <th>2</th>\n      <td>37</td>\n      <td>2</td>\n      <td>1373</td>\n      <td>1</td>\n      <td>2</td>\n      <td>2</td>\n      <td>4</td>\n      <td>1</td>\n      <td>4</td>\n      <td>4</td>\n      <td>...</td>\n      <td>2</td>\n      <td>80</td>\n      <td>0</td>\n      <td>7</td>\n      <td>3</td>\n      <td>3</td>\n      <td>0</td>\n      <td>0</td>\n      <td>0</td>\n      <td>0</td>\n    </tr>\n    <tr>\n      <th>3</th>\n      <td>33</td>\n      <td>1</td>\n      <td>1392</td>\n      <td>1</td>\n      <td>3</td>\n      <td>4</td>\n      <td>1</td>\n      <td>1</td>\n      <td>5</td>\n      <td>4</td>\n      <td>...</td>\n      <td>3</td>\n      <td>80</td>\n      <td>0</td>\n      <td>8</td>\n      <td>3</td>\n      <td>3</td>\n      <td>8</td>\n      <td>7</td>\n      <td>3</td>\n      <td>0</td>\n    </tr>\n    <tr>\n      <th>4</th>\n      <td>27</td>\n      <td>2</td>\n      <td>591</td>\n      <td>1</td>\n      <td>2</td>\n      <td>1</td>\n      <td>3</td>\n      <td>1</td>\n      <td>7</td>\n      <td>1</td>\n      <td>...</td>\n      <td>4</td>\n      <td>80</td>\n      <td>1</td>\n      <td>6</td>\n      <td>3</td>\n      <td>3</td>\n      <td>2</td>\n      <td>2</td>\n      <td>2</td>\n      <td>2</td>\n    </tr>\n  </tbody>\n</table>\n<p>5 rows × 34 columns</p>\n</div>"
     },
     "metadata": {},
     "execution_count": 10
    }
   ],
   "source": [
    "X.head()"
   ]
  },
  {
   "cell_type": "markdown",
   "metadata": {},
   "source": [
    "# Feature Selection"
   ]
  },
  {
   "cell_type": "code",
   "execution_count": 11,
   "metadata": {},
   "outputs": [
    {
     "output_type": "stream",
     "name": "stdout",
     "text": [
      "['Age', 'DailyRate', 'DistanceFromHome', 'EmployeeNumber', 'EnvironmentSatisfaction', 'JobInvolvement', 'JobLevel', 'JobRole', 'JobSatisfaction', 'MaritalStatus', 'MonthlyIncome', 'MonthlyRate', 'NumCompaniesWorked', 'OverTime', 'RelationshipSatisfaction', 'StockOptionLevel', 'TotalWorkingYears', 'TrainingTimesLastYear', 'YearsAtCompany', 'YearsInCurrentRole', 'YearsSinceLastPromotion', 'YearsWithCurrManager']\n"
     ]
    }
   ],
   "source": [
    "from sklearn.feature_selection import SelectKBest\n",
    "from sklearn.feature_selection import chi2\n",
    "from sklearn.decomposition import PCA\n",
    "\n",
    "# Feature selection\n",
    "# Use the built in scikit-learn function SelectKBest to select features\n",
    "# Arbitrarily chose 22 features\n",
    "\n",
    "selector = SelectKBest(chi2, k=22)\n",
    "\n",
    "X_auto = selector.fit_transform(X,y)\n",
    "selected_features = selector.get_support()\n",
    "\n",
    "column_headers = []\n",
    "\n",
    "for i in range(len(X.columns)):\n",
    "    if selected_features[i] == True:\n",
    "        column_headers.append(X.columns[i])\n",
    "\n",
    "print(column_headers)\n",
    "\n"
   ]
  },
  {
   "cell_type": "code",
   "execution_count": 12,
   "metadata": {},
   "outputs": [
    {
     "output_type": "execute_result",
     "data": {
      "text/plain": [
       "(1470, 22)"
      ]
     },
     "metadata": {},
     "execution_count": 12
    }
   ],
   "source": [
    "X_auto.shape"
   ]
  },
  {
   "cell_type": "code",
   "execution_count": 13,
   "metadata": {
    "tags": []
   },
   "outputs": [],
   "source": [
    "# Standardize the data\n",
    "\n",
    "scaler=MinMaxScaler()\n",
    "scaled_df=scaler.fit_transform(X_auto)\n",
    "X_new = scaled_df\n"
   ]
  },
  {
   "cell_type": "code",
   "execution_count": 14,
   "metadata": {},
   "outputs": [
    {
     "output_type": "stream",
     "name": "stdout",
     "text": [
      "[0.54761905 0.71581961 0.         0.         0.33333333 0.66666667\n 0.25       0.875      1.         1.         0.26245392 0.6980526\n 0.88888889 1.         0.         0.         0.2        0.\n 0.15       0.22222222 0.         0.29411765]\n"
     ]
    }
   ],
   "source": [
    "print(X_new[0])"
   ]
  },
  {
   "cell_type": "markdown",
   "metadata": {},
   "source": [
    "\n",
    "# Balance the Dataset"
   ]
  },
  {
   "cell_type": "code",
   "execution_count": 15,
   "metadata": {},
   "outputs": [],
   "source": [
    "# combine SMOTE and Tomek techniques to balance the data\n",
    "\n",
    "from imblearn.over_sampling import BorderlineSMOTE, SVMSMOTE\n",
    "from sklearn.model_selection import train_test_split\n",
    "\n",
    "X_train, X_test, y_train, y_test = train_test_split(X_new, y, test_size=0.15, random_state=0, stratify=y)\n",
    "\n",
    "smt = SVMSMOTE(sampling_strategy='minority')\n",
    "X_smt, y_smt = smt.fit_resample(X_train, y_train)\n",
    "\n",
    "df_train = pd.DataFrame(X_smt, columns=column_headers)\n",
    "df_train['Attrition'] = y_smt\n",
    "\n",
    "df_test = pd.DataFrame(X_test, columns=column_headers)\n",
    "df_test['Attrition'] = y_test"
   ]
  },
  {
   "cell_type": "code",
   "execution_count": 16,
   "metadata": {},
   "outputs": [
    {
     "output_type": "execute_result",
     "data": {
      "text/plain": [
       "        Age  DailyRate  DistanceFromHome  EmployeeNumber  \\\n",
       "0  0.809524   0.155333          0.071429        0.262216   \n",
       "1  0.190476   0.892627          0.785714        0.270440   \n",
       "2  0.476190   0.012169          0.071429        0.148041   \n",
       "3  0.857143   0.211167          0.642857        0.337204   \n",
       "4  0.761905   0.873300          0.964286        0.636672   \n",
       "\n",
       "   EnvironmentSatisfaction  JobInvolvement  JobLevel  JobRole  \\\n",
       "0                 1.000000        0.333333      0.50    0.500   \n",
       "1                 0.000000        0.666667      0.00    0.750   \n",
       "2                 0.000000        0.666667      0.50    0.875   \n",
       "3                 0.666667        0.666667      0.50    0.125   \n",
       "4                 1.000000        0.666667      0.75    0.625   \n",
       "\n",
       "   JobSatisfaction  MaritalStatus  ...  OverTime  RelationshipSatisfaction  \\\n",
       "0         0.666667            0.5  ...       1.0                  0.666667   \n",
       "1         1.000000            0.0  ...       0.0                  0.333333   \n",
       "2         0.666667            0.0  ...       0.0                  0.666667   \n",
       "3         0.333333            0.5  ...       0.0                  0.666667   \n",
       "4         0.000000            0.5  ...       1.0                  0.333333   \n",
       "\n",
       "   StockOptionLevel  TotalWorkingYears  TrainingTimesLastYear  YearsAtCompany  \\\n",
       "0          0.000000              0.700               0.666667           0.125   \n",
       "1          0.666667              0.075               0.500000           0.075   \n",
       "2          0.666667              0.425               1.000000           0.400   \n",
       "3          0.333333              0.400               0.166667           0.225   \n",
       "4          0.000000              0.625               0.333333           0.075   \n",
       "\n",
       "   YearsInCurrentRole  YearsSinceLastPromotion  YearsWithCurrManager  \\\n",
       "0            0.222222                 0.000000              0.235294   \n",
       "1            0.111111                 0.000000              0.117647   \n",
       "2            0.555556                 0.333333              0.764706   \n",
       "3            0.388889                 0.466667              0.058824   \n",
       "4            0.111111                 0.066667              0.117647   \n",
       "\n",
       "   Attrition  \n",
       "0          0  \n",
       "1          0  \n",
       "2          0  \n",
       "3          0  \n",
       "4          0  \n",
       "\n",
       "[5 rows x 23 columns]"
      ],
      "text/html": "<div>\n<style scoped>\n    .dataframe tbody tr th:only-of-type {\n        vertical-align: middle;\n    }\n\n    .dataframe tbody tr th {\n        vertical-align: top;\n    }\n\n    .dataframe thead th {\n        text-align: right;\n    }\n</style>\n<table border=\"1\" class=\"dataframe\">\n  <thead>\n    <tr style=\"text-align: right;\">\n      <th></th>\n      <th>Age</th>\n      <th>DailyRate</th>\n      <th>DistanceFromHome</th>\n      <th>EmployeeNumber</th>\n      <th>EnvironmentSatisfaction</th>\n      <th>JobInvolvement</th>\n      <th>JobLevel</th>\n      <th>JobRole</th>\n      <th>JobSatisfaction</th>\n      <th>MaritalStatus</th>\n      <th>...</th>\n      <th>OverTime</th>\n      <th>RelationshipSatisfaction</th>\n      <th>StockOptionLevel</th>\n      <th>TotalWorkingYears</th>\n      <th>TrainingTimesLastYear</th>\n      <th>YearsAtCompany</th>\n      <th>YearsInCurrentRole</th>\n      <th>YearsSinceLastPromotion</th>\n      <th>YearsWithCurrManager</th>\n      <th>Attrition</th>\n    </tr>\n  </thead>\n  <tbody>\n    <tr>\n      <th>0</th>\n      <td>0.809524</td>\n      <td>0.155333</td>\n      <td>0.071429</td>\n      <td>0.262216</td>\n      <td>1.000000</td>\n      <td>0.333333</td>\n      <td>0.50</td>\n      <td>0.500</td>\n      <td>0.666667</td>\n      <td>0.5</td>\n      <td>...</td>\n      <td>1.0</td>\n      <td>0.666667</td>\n      <td>0.000000</td>\n      <td>0.700</td>\n      <td>0.666667</td>\n      <td>0.125</td>\n      <td>0.222222</td>\n      <td>0.000000</td>\n      <td>0.235294</td>\n      <td>0</td>\n    </tr>\n    <tr>\n      <th>1</th>\n      <td>0.190476</td>\n      <td>0.892627</td>\n      <td>0.785714</td>\n      <td>0.270440</td>\n      <td>0.000000</td>\n      <td>0.666667</td>\n      <td>0.00</td>\n      <td>0.750</td>\n      <td>1.000000</td>\n      <td>0.0</td>\n      <td>...</td>\n      <td>0.0</td>\n      <td>0.333333</td>\n      <td>0.666667</td>\n      <td>0.075</td>\n      <td>0.500000</td>\n      <td>0.075</td>\n      <td>0.111111</td>\n      <td>0.000000</td>\n      <td>0.117647</td>\n      <td>0</td>\n    </tr>\n    <tr>\n      <th>2</th>\n      <td>0.476190</td>\n      <td>0.012169</td>\n      <td>0.071429</td>\n      <td>0.148041</td>\n      <td>0.000000</td>\n      <td>0.666667</td>\n      <td>0.50</td>\n      <td>0.875</td>\n      <td>0.666667</td>\n      <td>0.0</td>\n      <td>...</td>\n      <td>0.0</td>\n      <td>0.666667</td>\n      <td>0.666667</td>\n      <td>0.425</td>\n      <td>1.000000</td>\n      <td>0.400</td>\n      <td>0.555556</td>\n      <td>0.333333</td>\n      <td>0.764706</td>\n      <td>0</td>\n    </tr>\n    <tr>\n      <th>3</th>\n      <td>0.857143</td>\n      <td>0.211167</td>\n      <td>0.642857</td>\n      <td>0.337204</td>\n      <td>0.666667</td>\n      <td>0.666667</td>\n      <td>0.50</td>\n      <td>0.125</td>\n      <td>0.333333</td>\n      <td>0.5</td>\n      <td>...</td>\n      <td>0.0</td>\n      <td>0.666667</td>\n      <td>0.333333</td>\n      <td>0.400</td>\n      <td>0.166667</td>\n      <td>0.225</td>\n      <td>0.388889</td>\n      <td>0.466667</td>\n      <td>0.058824</td>\n      <td>0</td>\n    </tr>\n    <tr>\n      <th>4</th>\n      <td>0.761905</td>\n      <td>0.873300</td>\n      <td>0.964286</td>\n      <td>0.636672</td>\n      <td>1.000000</td>\n      <td>0.666667</td>\n      <td>0.75</td>\n      <td>0.625</td>\n      <td>0.000000</td>\n      <td>0.5</td>\n      <td>...</td>\n      <td>1.0</td>\n      <td>0.333333</td>\n      <td>0.000000</td>\n      <td>0.625</td>\n      <td>0.333333</td>\n      <td>0.075</td>\n      <td>0.111111</td>\n      <td>0.066667</td>\n      <td>0.117647</td>\n      <td>0</td>\n    </tr>\n  </tbody>\n</table>\n<p>5 rows × 23 columns</p>\n</div>"
     },
     "metadata": {},
     "execution_count": 16
    }
   ],
   "source": [
    "df_train.head()"
   ]
  },
  {
   "cell_type": "code",
   "execution_count": 17,
   "metadata": {},
   "outputs": [
    {
     "output_type": "execute_result",
     "data": {
      "text/plain": [
       "        Age  DailyRate  DistanceFromHome  EmployeeNumber  \\\n",
       "0  0.309524   0.425913          0.321429        0.956942   \n",
       "1  0.761905   0.555476          0.000000        0.988389   \n",
       "2  0.333333   0.720830          1.000000        0.505564   \n",
       "3  0.238095   0.261274          0.214286        0.728592   \n",
       "4  0.095238   0.740157          0.142857        0.136913   \n",
       "\n",
       "   EnvironmentSatisfaction  JobInvolvement  JobLevel  JobRole  \\\n",
       "0                 0.666667        0.666667      0.50    0.625   \n",
       "1                 0.333333        0.666667      0.25    0.875   \n",
       "2                 1.000000        0.666667      0.00    0.250   \n",
       "3                 0.666667        0.666667      0.25    0.875   \n",
       "4                 1.000000        1.000000      0.00    0.750   \n",
       "\n",
       "   JobSatisfaction  MaritalStatus  ...  OverTime  RelationshipSatisfaction  \\\n",
       "0         0.666667            0.5  ...       0.0                  0.666667   \n",
       "1         0.666667            0.0  ...       0.0                  1.000000   \n",
       "2         0.666667            1.0  ...       0.0                  0.333333   \n",
       "3         0.000000            1.0  ...       0.0                  1.000000   \n",
       "4         0.333333            0.0  ...       1.0                  0.000000   \n",
       "\n",
       "   StockOptionLevel  TotalWorkingYears  TrainingTimesLastYear  YearsAtCompany  \\\n",
       "0          0.333333              0.325               0.333333           0.275   \n",
       "1          0.666667              0.300               0.500000           0.150   \n",
       "2          0.000000              0.250               0.333333           0.200   \n",
       "3          0.000000              0.125               0.833333           0.100   \n",
       "4          0.333333              0.100               0.333333           0.100   \n",
       "\n",
       "   YearsInCurrentRole  YearsSinceLastPromotion  YearsWithCurrManager  \\\n",
       "0            0.388889                 0.266667              0.470588   \n",
       "1            0.166667                 0.000000              0.058824   \n",
       "2            0.388889                 0.466667              0.411765   \n",
       "3            0.111111                 0.066667              0.176471   \n",
       "4            0.111111                 0.133333              0.117647   \n",
       "\n",
       "   Attrition  \n",
       "0          0  \n",
       "1          1  \n",
       "2          0  \n",
       "3          0  \n",
       "4          0  \n",
       "\n",
       "[5 rows x 23 columns]"
      ],
      "text/html": "<div>\n<style scoped>\n    .dataframe tbody tr th:only-of-type {\n        vertical-align: middle;\n    }\n\n    .dataframe tbody tr th {\n        vertical-align: top;\n    }\n\n    .dataframe thead th {\n        text-align: right;\n    }\n</style>\n<table border=\"1\" class=\"dataframe\">\n  <thead>\n    <tr style=\"text-align: right;\">\n      <th></th>\n      <th>Age</th>\n      <th>DailyRate</th>\n      <th>DistanceFromHome</th>\n      <th>EmployeeNumber</th>\n      <th>EnvironmentSatisfaction</th>\n      <th>JobInvolvement</th>\n      <th>JobLevel</th>\n      <th>JobRole</th>\n      <th>JobSatisfaction</th>\n      <th>MaritalStatus</th>\n      <th>...</th>\n      <th>OverTime</th>\n      <th>RelationshipSatisfaction</th>\n      <th>StockOptionLevel</th>\n      <th>TotalWorkingYears</th>\n      <th>TrainingTimesLastYear</th>\n      <th>YearsAtCompany</th>\n      <th>YearsInCurrentRole</th>\n      <th>YearsSinceLastPromotion</th>\n      <th>YearsWithCurrManager</th>\n      <th>Attrition</th>\n    </tr>\n  </thead>\n  <tbody>\n    <tr>\n      <th>0</th>\n      <td>0.309524</td>\n      <td>0.425913</td>\n      <td>0.321429</td>\n      <td>0.956942</td>\n      <td>0.666667</td>\n      <td>0.666667</td>\n      <td>0.50</td>\n      <td>0.625</td>\n      <td>0.666667</td>\n      <td>0.5</td>\n      <td>...</td>\n      <td>0.0</td>\n      <td>0.666667</td>\n      <td>0.333333</td>\n      <td>0.325</td>\n      <td>0.333333</td>\n      <td>0.275</td>\n      <td>0.388889</td>\n      <td>0.266667</td>\n      <td>0.470588</td>\n      <td>0</td>\n    </tr>\n    <tr>\n      <th>1</th>\n      <td>0.761905</td>\n      <td>0.555476</td>\n      <td>0.000000</td>\n      <td>0.988389</td>\n      <td>0.333333</td>\n      <td>0.666667</td>\n      <td>0.25</td>\n      <td>0.875</td>\n      <td>0.666667</td>\n      <td>0.0</td>\n      <td>...</td>\n      <td>0.0</td>\n      <td>1.000000</td>\n      <td>0.666667</td>\n      <td>0.300</td>\n      <td>0.500000</td>\n      <td>0.150</td>\n      <td>0.166667</td>\n      <td>0.000000</td>\n      <td>0.058824</td>\n      <td>1</td>\n    </tr>\n    <tr>\n      <th>2</th>\n      <td>0.333333</td>\n      <td>0.720830</td>\n      <td>1.000000</td>\n      <td>0.505564</td>\n      <td>1.000000</td>\n      <td>0.666667</td>\n      <td>0.00</td>\n      <td>0.250</td>\n      <td>0.666667</td>\n      <td>1.0</td>\n      <td>...</td>\n      <td>0.0</td>\n      <td>0.333333</td>\n      <td>0.000000</td>\n      <td>0.250</td>\n      <td>0.333333</td>\n      <td>0.200</td>\n      <td>0.388889</td>\n      <td>0.466667</td>\n      <td>0.411765</td>\n      <td>0</td>\n    </tr>\n    <tr>\n      <th>3</th>\n      <td>0.238095</td>\n      <td>0.261274</td>\n      <td>0.214286</td>\n      <td>0.728592</td>\n      <td>0.666667</td>\n      <td>0.666667</td>\n      <td>0.25</td>\n      <td>0.875</td>\n      <td>0.000000</td>\n      <td>1.0</td>\n      <td>...</td>\n      <td>0.0</td>\n      <td>1.000000</td>\n      <td>0.000000</td>\n      <td>0.125</td>\n      <td>0.833333</td>\n      <td>0.100</td>\n      <td>0.111111</td>\n      <td>0.066667</td>\n      <td>0.176471</td>\n      <td>0</td>\n    </tr>\n    <tr>\n      <th>4</th>\n      <td>0.095238</td>\n      <td>0.740157</td>\n      <td>0.142857</td>\n      <td>0.136913</td>\n      <td>1.000000</td>\n      <td>1.000000</td>\n      <td>0.00</td>\n      <td>0.750</td>\n      <td>0.333333</td>\n      <td>0.0</td>\n      <td>...</td>\n      <td>1.0</td>\n      <td>0.000000</td>\n      <td>0.333333</td>\n      <td>0.100</td>\n      <td>0.333333</td>\n      <td>0.100</td>\n      <td>0.111111</td>\n      <td>0.133333</td>\n      <td>0.117647</td>\n      <td>0</td>\n    </tr>\n  </tbody>\n</table>\n<p>5 rows × 23 columns</p>\n</div>"
     },
     "metadata": {},
     "execution_count": 17
    }
   ],
   "source": [
    "df_test.head()"
   ]
  },
  {
   "cell_type": "code",
   "execution_count": 18,
   "metadata": {},
   "outputs": [
    {
     "output_type": "execute_result",
     "data": {
      "text/plain": [
       "(2096, 23)"
      ]
     },
     "metadata": {},
     "execution_count": 18
    }
   ],
   "source": [
    "df_train.shape"
   ]
  },
  {
   "cell_type": "code",
   "execution_count": 19,
   "metadata": {},
   "outputs": [
    {
     "output_type": "execute_result",
     "data": {
      "text/plain": [
       "(221, 23)"
      ]
     },
     "metadata": {},
     "execution_count": 19
    }
   ],
   "source": [
    "df_test.shape"
   ]
  },
  {
   "cell_type": "code",
   "execution_count": 20,
   "metadata": {},
   "outputs": [],
   "source": [
    "# Save the prepocessed data\n",
    "df_train.to_csv(r'data/train.csv', index=False)\n",
    "df_test.to_csv(r'data/test.csv', index=False)"
   ]
  },
  {
   "cell_type": "code",
   "execution_count": null,
   "metadata": {},
   "outputs": [],
   "source": []
  }
 ],
 "metadata": {
  "kernelspec": {
   "name": "python3",
   "display_name": "Python 3.7.7 64-bit ('ml_python': conda)",
   "metadata": {
    "interpreter": {
     "hash": "425c0ff3b57f916dcf47ed9bc3b06c8afea4e3946eb75ed292419f63c36692ce"
    }
   }
  },
  "language_info": {
   "codemirror_mode": {
    "name": "ipython",
    "version": 3
   },
   "file_extension": ".py",
   "mimetype": "text/x-python",
   "name": "python",
   "nbconvert_exporter": "python",
   "pygments_lexer": "ipython3",
   "version": "3.7.7-final"
  }
 },
 "nbformat": 4,
 "nbformat_minor": 2
}